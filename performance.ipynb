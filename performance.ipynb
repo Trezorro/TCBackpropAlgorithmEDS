{
 "cells": [
  {
   "cell_type": "code",
   "execution_count": 2,
   "metadata": {},
   "outputs": [],
   "source": [
    "import numpy as np\n",
    "import networkx as nx"
   ]
  },
  {
   "cell_type": "code",
   "execution_count": 3,
   "metadata": {},
   "outputs": [],
   "source": [
    "def init():\n",
    "    global C, N, S, G, count\n",
    "    count = 0\n",
    "    C = np.zeros((10,10), dtype='int')\n",
    "    # N = np.random.randint(2, size=(10,10), )\n",
    "    N = np.array([\n",
    "        [0, 1, 0, 0, 0, 0, 0, 0, 0, 0],\n",
    "        [0, 0, 1, 0, 0, 0, 0, 0, 0, 0],\n",
    "        [0, 0, 0, 1, 0, 0, 0, 0, 0, 0],\n",
    "        [0, 0, 0, 0, 1, 0, 0, 0, 0, 0],\n",
    "        [0, 0, 0, 0, 0, 1, 0, 0, 0, 0],\n",
    "        [0, 0, 0, 0, 0, 0, 1, 0, 0, 0],\n",
    "        [0, 0, 0, 0, 0, 0, 0, 1, 0, 0],\n",
    "        [0, 0, 0, 0, 0, 0, 0, 0, 1, 0],\n",
    "        [0, 0, 0, 0, 0, 0, 0, 0, 0, 1],\n",
    "        [0, 0, 0, 0, 0, 0, 1, 0, 0, 0]])\n",
    "    S = N.copy()\n",
    "    G = nx.DiGraph(S)\n",
    "\n",
    "def init2(size = 10):\n",
    "    global C, N, S, G, count\n",
    "    count = 0\n",
    "    C = np.zeros((size,size), dtype='int')\n",
    "    N = np.random.randint(2, size=(size,size), ) & np.random.randint(2, size=(size,size), )\n",
    "    S = N.copy()\n",
    "    G = nx.DiGraph(S)\n",
    "\n",
    "def init15example():\n",
    "    global C, N, S, G, count\n",
    "    count = 0\n",
    "    C = np.zeros((15,15), dtype='int')\n",
    "    N = np.array([[0, 0, 0, 1, 1, 1, 0, 0, 1, 0, 1, 1, 0, 1, 1],\n",
    "       [0, 0, 1, 0, 0, 0, 0, 0, 1, 1, 0, 0, 1, 0, 0],\n",
    "       [0, 0, 0, 0, 0, 0, 0, 0, 1, 0, 0, 0, 0, 0, 0],\n",
    "       [0, 0, 0, 0, 1, 0, 1, 0, 0, 0, 0, 0, 0, 0, 0],\n",
    "       [0, 1, 1, 1, 0, 0, 1, 1, 1, 0, 0, 1, 0, 0, 1],\n",
    "       [0, 0, 1, 0, 0, 0, 0, 0, 0, 0, 0, 0, 0, 0, 0],\n",
    "       [0, 0, 0, 1, 0, 1, 0, 0, 1, 0, 1, 0, 1, 1, 1],\n",
    "       [1, 0, 1, 0, 1, 0, 0, 0, 0, 1, 1, 0, 0, 0, 1],\n",
    "       [0, 0, 0, 0, 0, 1, 0, 0, 0, 0, 0, 0, 0, 0, 0],\n",
    "       [0, 0, 1, 0, 0, 1, 0, 0, 0, 1, 0, 1, 0, 0, 0],\n",
    "       [0, 0, 0, 0, 0, 1, 0, 0, 0, 1, 0, 0, 0, 0, 0],\n",
    "       [0, 0, 0, 0, 0, 1, 0, 0, 1, 0, 0, 0, 1, 0, 1],\n",
    "       [1, 0, 0, 1, 1, 1, 0, 0, 0, 0, 0, 0, 0, 1, 0],\n",
    "       [0, 0, 1, 1, 0, 0, 0, 0, 1, 1, 0, 0, 1, 0, 1],\n",
    "       [1, 0, 1, 0, 0, 0, 0, 1, 0, 1, 0, 1, 1, 0, 0]])\n",
    "    S = N.copy()\n",
    "    G = nx.DiGraph(S)\n",
    "\n",
    "def reset_N_and_C():\n",
    "    global C, N, S, G, count\n",
    "    count = 0\n",
    "    C[:] = 0\n",
    "    N = S.copy()\n",
    "    S = N.copy()\n",
    "    G = nx.DiGraph(S)\n",
    "\n",
    "def initempty(size = 10):\n",
    "    global C, N, S, G, count\n",
    "    count = 0\n",
    "    C = np.zeros((size,size), dtype='int')\n",
    "    N = np.zeros((size,size), dtype='int')\n",
    "    S = N.copy()\n",
    "    G = nx.DiGraph(S)\n",
    "\n",
    "\n",
    "def init_from_nx(graph):\n",
    "    global C, N, S, G, count\n",
    "    count = 0\n",
    "    N = nx.to_numpy_array(graph, dtype='int')\n",
    "    C = np.zeros_like(N)\n",
    "    S = N.copy()\n",
    "    G = nx.DiGraph(S)\n",
    "    # G = graph\n",
    "\n",
    "init()"
   ]
  },
  {
   "cell_type": "code",
   "execution_count": 4,
   "metadata": {},
   "outputs": [],
   "source": [
    "def explore(s, root):\n",
    "    for t in N[s].nonzero()[0]:\n",
    "        if not C[root,t]: # needs to be checked as many times as N has ones.\n",
    "            C[root, t] = 1 # after exploring, this node known by the root.\n",
    "            # N[s,t] = 0 # pop this front (covered in N update below)\n",
    "            explore(t, root)\n",
    "            C[s] |= C[t] # pull target's cover into current node\n",
    "            C[s,t] = 1 # and add the target itself to the cover\n",
    "            N[s] = ~C[s] & (N[s] | N[t])"
   ]
  },
  {
   "cell_type": "markdown",
   "metadata": {},
   "source": [
    "### Init"
   ]
  },
  {
   "cell_type": "code",
   "execution_count": 5,
   "metadata": {},
   "outputs": [],
   "source": [
    "# graph = nx.path_graph(50, create_using=nx.DiGraph)\n",
    "# graph = nx.to_directed(nx.watts_strogatz_graph(20,3, .4))\n",
    "V = 100\n",
    "# graph = nx.random_k_out_graph(V, 3, 3)\n",
    "# graph = nx.binomial_tree(5)\n",
    "graph = nx.soft_random_geometric_graph(V, .1)\n",
    "init_from_nx(graph)\n"
   ]
  },
  {
   "cell_type": "markdown",
   "metadata": {},
   "source": [
    "### Solve:"
   ]
  },
  {
   "cell_type": "code",
   "execution_count": 6,
   "metadata": {},
   "outputs": [],
   "source": [
    "start = 34\n",
    "explore(start, start)\n",
    "overlap = (C & N)\n",
    "if overlap.any():\n",
    "    print(\"Overlap at:\")\n",
    "    print(np.transpose(overlap.nonzero()))"
   ]
  },
  {
   "cell_type": "markdown",
   "metadata": {},
   "source": [
    "# Test Complete Solve Time"
   ]
  },
  {
   "cell_type": "code",
   "execution_count": 7,
   "metadata": {},
   "outputs": [],
   "source": [
    "def solve_kleene():\n",
    "    global G\n",
    "    for root in range(G.number_of_nodes()):\n",
    "        explore(root, root)"
   ]
  },
  {
   "cell_type": "code",
   "execution_count": 8,
   "metadata": {},
   "outputs": [],
   "source": [
    "# graph = nx.random_k_out_graph(V, 3, 3)\n",
    "# # graph = nx.binomial_tree(5)\n",
    "# init_from_nx(graph)\n",
    "V = 10000\n",
    "# graph = nx.random_k_out_graph(V, 3, 3)\n",
    "# graph = nx.binomial_tree(5)\n",
    "graph = nx.soft_random_geometric_graph(V, .1)\n",
    "init_from_nx(graph)\n"
   ]
  },
  {
   "cell_type": "code",
   "execution_count": 9,
   "metadata": {},
   "outputs": [
    {
     "data": {
      "text/plain": [
       "2694922"
      ]
     },
     "execution_count": 9,
     "metadata": {},
     "output_type": "execute_result"
    }
   ],
   "source": [
    "N.sum()"
   ]
  },
  {
   "cell_type": "code",
   "execution_count": 10,
   "metadata": {},
   "outputs": [],
   "source": [
    "\n",
    "solve_kleene()"
   ]
  },
  {
   "cell_type": "code",
   "execution_count": 159,
   "metadata": {},
   "outputs": [],
   "source": [
    "def shell_example(p=.01):\n",
    "    start = 19\n",
    "    graph = nx.to_directed(nx.watts_strogatz_graph(20,5, p, seed=10))\n",
    "    init_from_nx(graph)\n",
    "    LAYOUT = lambda g: dw.layout.spring_layout(g, seed=42, iterations=40)\n",
    "    drawnext(s=start)\n",
    "    explore(start, start)\n",
    "    drawnext()\n",
    "    overlap = (C & N)\n",
    "    if overlap.any():\n",
    "        print(\"Overlap at:\")\n",
    "        print(np.transpose(overlap.nonzero()))\n",
    "    plt.pause(1)\n",
    "    drawnext(filter_c=start)\n",
    "shell_example(.1)"
   ]
  },
  {
   "cell_type": "code",
   "execution_count": 139,
   "metadata": {},
   "outputs": [],
   "source": [
    "drawnext(filter_c=11)\n"
   ]
  },
  {
   "cell_type": "code",
   "execution_count": null,
   "metadata": {},
   "outputs": [],
   "source": [
    "nt = Network('1000px', '1000px', notebook=False, directed=True, )\n",
    "# nt.show_buttons(filter_=[])\n",
    "nt.set_options(\"\"\"var options = {\n",
    "  \"edges\": {\n",
    "    \"arrows\": {\n",
    "      \"to\": {\n",
    "        \"enabled\": true,\n",
    "        \"scaleFactor\": 0.35\n",
    "      }\n",
    "    },\n",
    "    \"smooth\": false\n",
    "  },\n",
    "  \"physics\": {\n",
    "    \"minVelocity\": 0.75\n",
    "  }\n",
    "}\"\"\")\n",
    "nt.from_nx(G)\n",
    "nt.show('a.html')"
   ]
  },
  {
   "cell_type": "code",
   "execution_count": null,
   "metadata": {},
   "outputs": [],
   "source": []
  }
 ],
 "metadata": {
  "interpreter": {
   "hash": "6c8e67d5701bdedea3dc09ffc81133f9b795b77718725fc3bd77d0647de6eb32"
  },
  "kernelspec": {
   "display_name": "Python 3.9.5 64-bit ('base': conda)",
   "language": "python",
   "name": "python3"
  },
  "language_info": {
   "codemirror_mode": {
    "name": "ipython",
    "version": 3
   },
   "file_extension": ".py",
   "mimetype": "text/x-python",
   "name": "python",
   "nbconvert_exporter": "python",
   "pygments_lexer": "ipython3",
   "version": "3.9.5"
  },
  "orig_nbformat": 4
 },
 "nbformat": 4,
 "nbformat_minor": 2
}
