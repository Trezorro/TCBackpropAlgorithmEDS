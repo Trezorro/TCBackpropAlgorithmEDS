{
 "cells": [
  {
   "cell_type": "code",
   "execution_count": 1,
   "metadata": {},
   "outputs": [],
   "source": [
    "import numpy as np\n",
    "from pyvis.network import Network\n",
    "import networkx as nx\n",
    "from networkx import drawing as dw\n",
    "import matplotlib.pyplot as plt\n",
    "%matplotlib qt5"
   ]
  },
  {
   "cell_type": "code",
   "execution_count": 2,
   "metadata": {},
   "outputs": [],
   "source": [
    "REAL_PATH = r\"D:\\code\\studie\\eds-quicksilver-21-team-4\\workload\\real\\1\\graph.nt\"\n",
    "SYN_PATH = r\"D:\\code\\studie\\eds-quicksilver-21-team-4\\workload\\syn\\1\\graph.nt\"\n",
    "LAYOUT = lambda g: dw.layout.spring_layout(g, seed=42, iterations=60)\n",
    "# LAYOUT = lambda g: dw.layout.spectral_layout(g)\n",
    "# LAYOUT = lambda g: dw.layout.planar_layout(g)"
   ]
  },
  {
   "cell_type": "code",
   "execution_count": 3,
   "metadata": {},
   "outputs": [],
   "source": [
    "binary_generator = np.random.default_rng(seed=42)\n",
    "def init():\n",
    "    global C, N, S, G, count\n",
    "    count = 0\n",
    "    C = np.zeros((10,10), dtype='int')\n",
    "    # N = np.random.randint(2, size=(10,10), )\n",
    "    N = np.array([\n",
    "        [0, 1, 0, 0, 0, 0, 0, 0, 0, 0],\n",
    "        [0, 0, 1, 0, 0, 0, 0, 0, 0, 0],\n",
    "        [0, 0, 0, 1, 0, 0, 0, 0, 0, 0],\n",
    "        [0, 0, 0, 0, 1, 0, 0, 0, 0, 0],\n",
    "        [0, 0, 0, 0, 0, 1, 0, 0, 0, 0],\n",
    "        [0, 0, 0, 0, 0, 0, 1, 0, 0, 0],\n",
    "        [0, 0, 0, 0, 0, 0, 0, 1, 0, 0],\n",
    "        [0, 0, 0, 0, 0, 0, 0, 0, 1, 0],\n",
    "        [0, 0, 0, 0, 0, 0, 0, 0, 0, 1],\n",
    "        [0, 0, 0, 0, 0, 0, 1, 0, 0, 0]])\n",
    "    S = N.copy()\n",
    "    G = nx.DiGraph(S)\n",
    "\n",
    "def init2(size = 10):\n",
    "    global C, N, S, G, count\n",
    "    count = 0\n",
    "    C = np.zeros((size,size), dtype='int')\n",
    "    N = np.random.randint(2, size=(size,size), ) & np.random.randint(2, size=(size,size), )\n",
    "    S = N.copy()\n",
    "    G = nx.DiGraph(S)\n",
    "\n",
    "def init15example():\n",
    "    global C, N, S, G, count\n",
    "    count = 0\n",
    "    C = np.zeros((15,15), dtype='int')\n",
    "    N = np.array([[0, 0, 0, 1, 1, 1, 0, 0, 1, 0, 1, 1, 0, 1, 1],\n",
    "       [0, 0, 1, 0, 0, 0, 0, 0, 1, 1, 0, 0, 1, 0, 0],\n",
    "       [0, 0, 0, 0, 0, 0, 0, 0, 1, 0, 0, 0, 0, 0, 0],\n",
    "       [0, 0, 0, 0, 1, 0, 1, 0, 0, 0, 0, 0, 0, 0, 0],\n",
    "       [0, 1, 1, 1, 0, 0, 1, 1, 1, 0, 0, 1, 0, 0, 1],\n",
    "       [0, 0, 1, 0, 0, 0, 0, 0, 0, 0, 0, 0, 0, 0, 0],\n",
    "       [0, 0, 0, 1, 0, 1, 0, 0, 1, 0, 1, 0, 1, 1, 1],\n",
    "       [1, 0, 1, 0, 1, 0, 0, 0, 0, 1, 1, 0, 0, 0, 1],\n",
    "       [0, 0, 0, 0, 0, 1, 0, 0, 0, 0, 0, 0, 0, 0, 0],\n",
    "       [0, 0, 1, 0, 0, 1, 0, 0, 0, 1, 0, 1, 0, 0, 0],\n",
    "       [0, 0, 0, 0, 0, 1, 0, 0, 0, 1, 0, 0, 0, 0, 0],\n",
    "       [0, 0, 0, 0, 0, 1, 0, 0, 1, 0, 0, 0, 1, 0, 1],\n",
    "       [1, 0, 0, 1, 1, 1, 0, 0, 0, 0, 0, 0, 0, 1, 0],\n",
    "       [0, 0, 1, 1, 0, 0, 0, 0, 1, 1, 0, 0, 1, 0, 1],\n",
    "       [1, 0, 1, 0, 0, 0, 0, 1, 0, 1, 0, 1, 1, 0, 0]])\n",
    "    S = N.copy()\n",
    "    G = nx.DiGraph(S)\n",
    "\n",
    "def reset_N_and_C():\n",
    "    global C, N, S, G, count\n",
    "    count = 0\n",
    "    C[:] = 0\n",
    "    N = S.copy()\n",
    "    S = N.copy()\n",
    "    G = nx.DiGraph(S)\n",
    "\n",
    "def initempty(size = 10):\n",
    "    global C, N, S, G, count\n",
    "    count = 0\n",
    "    C = np.zeros((size,size), dtype='int')\n",
    "    N = np.zeros((size,size), dtype='int')\n",
    "    S = N.copy()\n",
    "    G = nx.DiGraph(S)\n",
    "\n",
    "\n",
    "def init_from_nx(graph, p=1):\n",
    "    global C, N, S, G, count\n",
    "    count = 0\n",
    "    N = nx.to_numpy_array(graph, dtype='int')\n",
    "    if 0 <= p < 1:\n",
    "        mask = binary_generator.binomial(1, p, size=N.shape)\n",
    "        N &= mask\n",
    "    elif not p == 1: raise ValueError(\"Probability p must be in range [0, 1].\")\n",
    "    C = np.zeros_like(N)\n",
    "    S = N.copy()\n",
    "    G = nx.DiGraph(S)\n",
    "    # G = graph\n",
    "\n",
    "def init_TC_union(tc1, tc2, overlap=.5):\n",
    "    assert tc1.shape == tc2.shape\n",
    "    global C, N, S, G, count\n",
    "    count = 0\n",
    "    old_size = tc1.shape[0]\n",
    "    new_v = int(old_size * (1-overlap))\n",
    "    size = old_size + new_v\n",
    "    C = np.zeros((size,size), dtype='int')\n",
    "    C[:old_size,:old_size] = tc1\n",
    "    N = np.zeros((size,size), dtype='int')\n",
    "    N[new_v:,new_v:] = tc2\n",
    "    S = C | N\n",
    "    G = nx.DiGraph(S)\n",
    "    \n",
    "\n",
    "init()"
   ]
  },
  {
   "cell_type": "markdown",
   "metadata": {},
   "source": [
    "### Read from file\n"
   ]
  },
  {
   "cell_type": "code",
   "execution_count": 148,
   "metadata": {},
   "outputs": [
    {
     "name": "stdout",
     "output_type": "stream",
     "text": [
      "0 (7841, 7067)\n",
      "1 (2884, 10460)\n",
      "2 (1527, 2533)\n",
      "3 (2483, 1907)\n",
      "4 (0, 0)\n"
     ]
    }
   ],
   "source": [
    "for subgraph in (0):\n",
    "    G = nx.DiGraph()\n",
    "    with open(REAL_PATH, \"r\") as f:\n",
    "        for i, line in enumerate(f.readlines()):\n",
    "            words = line.split(' ')\n",
    "            if len(words) == 1: \n",
    "                # print(words[0])\n",
    "                continue\n",
    "            s, l, t, _ = words\n",
    "            if int(l) == subgraph:\n",
    "                G.add_edge(int(words[0]),int(words[2]))\n",
    "            # if i % 500 ==0:\n",
    "            #     nx.draw(G)\n",
    "            #     plt.pause(.1)\n",
    "    print(subgraph, (G.number_of_nodes(), G.number_of_edges()))"
   ]
  },
  {
   "cell_type": "code",
   "execution_count": 158,
   "metadata": {},
   "outputs": [
    {
     "name": "stdout",
     "output_type": "stream",
     "text": [
      "10000,22122,36\n",
      "\n",
      "(10000, 17810)\n"
     ]
    }
   ],
   "source": [
    "G = nx.DiGraph()\n",
    "with open(REAL_PATH, \"r\") as f:\n",
    "    for i, line in enumerate(f.readlines()):\n",
    "        words = line.split(' ')\n",
    "        if len(words) == 1: \n",
    "            print(words[0])\n",
    "            continue\n",
    "        s, l, t, _ = words\n",
    "        G.add_edge(int(words[0]),int(words[2]), label=int(l))\n",
    "print((G.number_of_nodes(), G.number_of_edges()))\n"
   ]
  },
  {
   "cell_type": "code",
   "execution_count": 160,
   "metadata": {},
   "outputs": [],
   "source": [
    "import pickle\n",
    "\n",
    "with open('real_positions.pickle', 'wb') as f:\n",
    "    # Pickle the 'data' dictionary using the highest protocol available.\n",
    "    pickle.dump(pos_real, f, pickle.HIGHEST_PROTOCOL)"
   ]
  },
  {
   "cell_type": "code",
   "execution_count": 161,
   "metadata": {},
   "outputs": [],
   "source": [
    "plt.clf()\n",
    "nx.draw(G, pos_real, node_size=20)\n"
   ]
  },
  {
   "cell_type": "markdown",
   "metadata": {},
   "source": [
    "## define rendering"
   ]
  },
  {
   "cell_type": "code",
   "execution_count": 4,
   "metadata": {},
   "outputs": [],
   "source": [
    "fig = plt.figure(1, figsize=(10,10))\n",
    "plt.tight_layout()\n",
    "plt.show()\n",
    "def drawnext(s=None, explore=False, filter_c=None, base_only=False):\n",
    "    global G, count\n",
    "    \n",
    "    plt.clf()\n",
    "    layout = LAYOUT(G)\n",
    "    # nx.draw_circular(G, with_labels=True, font_weight='bold', edge_color='blue', width=10, alpha=.3, )\n",
    "    nx.draw_networkx_edges(G, layout, edge_color='blue', width=5, alpha=.5, node_size=400, arrowsize=35, )\n",
    "    nx.draw_networkx_nodes(G, layout, node_color='w', edgecolors='k', node_size=400)\n",
    "    nx.draw_networkx_labels(G, layout)\n",
    "    if base_only: return\n",
    "    \n",
    "    Gn = nx.DiGraph(N)\n",
    "    Gc = nx.DiGraph(C)\n",
    "    nx.draw_networkx_edges(Gc, layout, edge_color='k', alpha=.9, width=3, arrowsize=15,connectionstyle='arc3,rad=0.15',\n",
    "                           edgelist=Gc.edges(filter_c))\n",
    "    nx.draw_networkx_edges(Gn, layout, edge_color='red', width=3,\n",
    "                           alpha=.6, arrowstyle='-[', min_target_margin=15,\n",
    "                           connectionstyle='arc3,rad=0.05')\n",
    "    if s is not None:\n",
    "        select_color = 'red' if explore else 'blue'\n",
    "        nx.draw_networkx_nodes(G, layout, node_color=select_color, edgecolors='k', node_size=700, nodelist=[s])\n",
    "    count+=1\n",
    "        \n",
    "    plt.title(str(count))\n",
    "    plt.pause(.1)\n",
    "drawnext()"
   ]
  },
  {
   "cell_type": "code",
   "execution_count": 33,
   "metadata": {},
   "outputs": [],
   "source": [
    "def explore(s, root):\n",
    "    # drawnext(s, explore=True)\n",
    "    for t in N[s].nonzero()[0]:\n",
    "        if not C[root,t]: # needs to be checked as many times as N has ones.\n",
    "            C[root, t] = 1 # after exploring, this node known by the root.\n",
    "            N[s,t] = 0 # pop this front (covered in N update below)\n",
    "            explore(t, root)\n",
    "            C[s] |= C[t] # pull target's cover into current node\n",
    "            C[s,t] = 1 # and add the target itself to the cover\n",
    "            N[s] = ~C[s] & (N[s] | N[t])\n",
    "            # drawnext(s)\n",
    "    # overlap = (C[s] & N[s])\n",
    "    # if s != root:\n",
    "    #     assert not overlap.any(), f\"{s=} overlap: {np.transpose(overlap.nonzero())}\""
   ]
  },
  {
   "cell_type": "markdown",
   "metadata": {},
   "source": [
    "### Init"
   ]
  },
  {
   "cell_type": "code",
   "execution_count": 26,
   "metadata": {},
   "outputs": [],
   "source": [
    "LAYOUT = lambda g: dw.layout.spring_layout(g, seed=42, iterations=150)\n",
    "# LAYOUT = lambda g: dw.layout.spectral_layout(g)\n",
    "# LAYOUT = lambda g: dw.layout.planar_layout(g)\n",
    "\n",
    "# graph = nx.path_graph(50, create_using=nx.DiGraph)\n",
    "# graph = nx.to_directed(nx.watts_strogatz_graph(20,3, .4))\n",
    "V = 40\n",
    "# graph = nx.random_k_out_graph(V, 3, 3)\n",
    "# graph = nx.binomial_tree(5)\n",
    "graph = nx.soft_random_geometric_graph(V, .4)\n",
    "init_from_nx(graph, p=.1)\n",
    "drawnext(base_only=True)\n"
   ]
  },
  {
   "cell_type": "markdown",
   "metadata": {},
   "source": [
    "### Solve Partial:"
   ]
  },
  {
   "cell_type": "code",
   "execution_count": 16,
   "metadata": {},
   "outputs": [],
   "source": [
    "start = 1\n",
    "drawnext(s=start)\n",
    "explore(start, start)\n",
    "drawnext()\n",
    "overlap = (C & N)\n",
    "if overlap.any():\n",
    "    print(\"Overlap at:\")\n",
    "    print(np.transpose(overlap.nonzero()))\n",
    "plt.pause(1)\n",
    "drawnext(filter_c=start)"
   ]
  },
  {
   "cell_type": "code",
   "execution_count": 40,
   "metadata": {},
   "outputs": [
    {
     "name": "stdout",
     "output_type": "stream",
     "text": [
      " "
     ]
    },
    {
     "name": "stdout",
     "output_type": "stream",
     "text": [
      "         184 function calls (125 primitive calls) in 0.001 seconds\n",
      "\n",
      "   Ordered by: internal time\n",
      "\n",
      "   ncalls  tottime  percall  cumtime  percall filename:lineno(function)\n",
      "    89/30    0.000    0.000    0.001    0.000 2699899426.py:1(explore)\n",
      "       89    0.000    0.000    0.000    0.000 {method 'nonzero' of 'numpy.ndarray' objects}\n",
      "        1    0.000    0.000    0.001    0.001 222052600.py:1(solve_kleene)\n",
      "        1    0.000    0.000    0.001    0.001 {built-in method builtins.exec}\n",
      "        1    0.000    0.000    0.000    0.000 graph.py:759(number_of_nodes)\n",
      "        1    0.000    0.000    0.001    0.001 <string>:1(<module>)\n",
      "        1    0.000    0.000    0.000    0.000 {built-in method builtins.len}\n",
      "        1    0.000    0.000    0.000    0.000 {method 'disable' of '_lsprof.Profiler' objects}"
     ]
    }
   ],
   "source": [
    "# graph = nx.path_graph(50, create_using=nx.DiGraph)\n",
    "graph = nx.to_directed(nx.watts_strogatz_graph(30, 3, .4))\n",
    "\n",
    "init_from_nx(graph, p=.9)\n",
    "drawnext(base_only=True)\n",
    "%prun solve_kleene()"
   ]
  },
  {
   "cell_type": "code",
   "execution_count": 79,
   "metadata": {},
   "outputs": [],
   "source": [
    "T2 = C.copy()\n",
    "S2 = S.copy()"
   ]
  },
  {
   "cell_type": "code",
   "execution_count": 80,
   "metadata": {},
   "outputs": [
    {
     "name": "stdout",
     "output_type": "stream",
     "text": [
      " "
     ]
    },
    {
     "name": "stdout",
     "output_type": "stream",
     "text": [
      "         226 function calls (166 primitive calls) in 0.001 seconds\n",
      "\n",
      "   Ordered by: internal time\n",
      "\n",
      "   ncalls  tottime  percall  cumtime  percall filename:lineno(function)\n",
      "   110/50    0.001    0.000    0.001    0.000 3579666351.py:1(explore)\n",
      "      110    0.000    0.000    0.000    0.000 {method 'nonzero' of 'numpy.ndarray' objects}\n",
      "        1    0.000    0.000    0.001    0.001 {built-in method builtins.exec}\n",
      "        1    0.000    0.000    0.001    0.001 222052600.py:1(solve_kleene)\n",
      "        1    0.000    0.000    0.000    0.000 graph.py:759(number_of_nodes)\n",
      "        1    0.000    0.000    0.001    0.001 <string>:1(<module>)\n",
      "        1    0.000    0.000    0.000    0.000 {built-in method builtins.len}\n",
      "        1    0.000    0.000    0.000    0.000 {method 'disable' of '_lsprof.Profiler' objects}"
     ]
    }
   ],
   "source": [
    "init_TC_union(T1, T2, overlap=1)\n",
    "%prun solve_kleene()\n",
    "\n"
   ]
  },
  {
   "cell_type": "code",
   "execution_count": 85,
   "metadata": {},
   "outputs": [
    {
     "name": "stdout",
     "output_type": "stream",
     "text": [
      " "
     ]
    },
    {
     "name": "stdout",
     "output_type": "stream",
     "text": [
      "         350 function calls (273 primitive calls) in 0.001 seconds\n",
      "\n",
      "   Ordered by: internal time\n",
      "\n",
      "   ncalls  tottime  percall  cumtime  percall filename:lineno(function)\n",
      "   172/95    0.001    0.000    0.001    0.000 3579666351.py:1(explore)\n",
      "      172    0.000    0.000    0.000    0.000 {method 'nonzero' of 'numpy.ndarray' objects}\n",
      "        1    0.000    0.000    0.001    0.001 222052600.py:1(solve_kleene)\n",
      "        1    0.000    0.000    0.001    0.001 {built-in method builtins.exec}\n",
      "        1    0.000    0.000    0.000    0.000 {built-in method builtins.len}\n",
      "        1    0.000    0.000    0.000    0.000 graph.py:759(number_of_nodes)\n",
      "        1    0.000    0.000    0.001    0.001 <string>:1(<module>)\n",
      "        1    0.000    0.000    0.000    0.000 {method 'disable' of '_lsprof.Profiler' objects}"
     ]
    }
   ],
   "source": [
    "init_TC_union(T1, S2, overlap=.1)\n",
    "%prun solve_kleene()\n",
    "\n"
   ]
  },
  {
   "cell_type": "code",
   "execution_count": 86,
   "metadata": {},
   "outputs": [
    {
     "data": {
      "text/plain": [
       "(1.88, 1.8105263157894738)"
      ]
     },
     "execution_count": 86,
     "metadata": {},
     "output_type": "execute_result"
    }
   ],
   "source": [
    "141/75, 172/95"
   ]
  },
  {
   "cell_type": "code",
   "execution_count": 72,
   "metadata": {},
   "outputs": [],
   "source": [
    "LAYOUT = lambda g: dw.layout.spring_layout(g, seed=42, iterations=60)\n",
    "drawnext(base_only=False)\n"
   ]
  },
  {
   "cell_type": "markdown",
   "metadata": {},
   "source": [
    "# Test Complete Solve Time"
   ]
  },
  {
   "cell_type": "code",
   "execution_count": 7,
   "metadata": {},
   "outputs": [],
   "source": [
    "def solve_kleene():\n",
    "    global G\n",
    "    for root in range(G.number_of_nodes()):\n",
    "        explore(root, root)"
   ]
  },
  {
   "cell_type": "code",
   "execution_count": 76,
   "metadata": {},
   "outputs": [
    {
     "name": "stdout",
     "output_type": "stream",
     "text": [
      " "
     ]
    },
    {
     "name": "stdout",
     "output_type": "stream",
     "text": [
      "         262 function calls (184 primitive calls) in 0.001 seconds\n",
      "\n",
      "   Ordered by: internal time\n",
      "\n",
      "   ncalls  tottime  percall  cumtime  percall filename:lineno(function)\n",
      "   128/50    0.001    0.000    0.001    0.000 3579666351.py:1(explore)\n",
      "      128    0.000    0.000    0.000    0.000 {method 'nonzero' of 'numpy.ndarray' objects}\n",
      "        1    0.000    0.000    0.001    0.001 {built-in method builtins.exec}\n",
      "        1    0.000    0.000    0.001    0.001 222052600.py:1(solve_kleene)\n",
      "        1    0.000    0.000    0.000    0.000 graph.py:759(number_of_nodes)\n",
      "        1    0.000    0.000    0.001    0.001 <string>:1(<module>)\n",
      "        1    0.000    0.000    0.000    0.000 {built-in method builtins.len}\n",
      "        1    0.000    0.000    0.000    0.000 {method 'disable' of '_lsprof.Profiler' objects}"
     ]
    }
   ],
   "source": [
    "%prun solve_kleene()\n"
   ]
  },
  {
   "cell_type": "code",
   "execution_count": 74,
   "metadata": {},
   "outputs": [
    {
     "data": {
      "text/plain": [
       "(1.9263157894736842, 2.38)"
      ]
     },
     "execution_count": 74,
     "metadata": {},
     "output_type": "execute_result"
    }
   ],
   "source": [
    " 183/95 , 119/50 "
   ]
  },
  {
   "cell_type": "code",
   "execution_count": null,
   "metadata": {},
   "outputs": [
    {
     "name": "stdout",
     "output_type": "stream",
     "text": [
      " "
     ]
    },
    {
     "name": "stdout",
     "output_type": "stream",
     "text": [
      "         324 function calls (240 primitive calls) in 0.002 seconds\n",
      "\n",
      "   Ordered by: internal time\n",
      "\n",
      "   ncalls  tottime  percall  cumtime  percall filename:lineno(function)\n",
      "   159/75    0.001    0.000    0.001    0.000 3579666351.py:1(explore)\n",
      "      159    0.000    0.000    0.000    0.000 {method 'nonzero' of 'numpy.ndarray' objects}\n",
      "        1    0.000    0.000    0.002    0.002 222052600.py:1(solve_kleene)\n",
      "        1    0.000    0.000    0.002    0.002 {built-in method builtins.exec}\n",
      "        1    0.000    0.000    0.000    0.000 graph.py:759(number_of_nodes)\n",
      "        1    0.000    0.000    0.000    0.000 {built-in method builtins.len}\n",
      "        1    0.000    0.000    0.002    0.002 <string>:1(<module>)\n",
      "        1    0.000    0.000    0.000    0.000 {method 'disable' of '_lsprof.Profiler' objects}"
     ]
    }
   ],
   "source": [
    "%prun solve_kleene()\n"
   ]
  },
  {
   "cell_type": "code",
   "execution_count": 63,
   "metadata": {},
   "outputs": [
    {
     "data": {
      "text/plain": [
       "2.12"
      ]
     },
     "execution_count": 63,
     "metadata": {},
     "output_type": "execute_result"
    }
   ],
   "source": [
    "  159/75"
   ]
  },
  {
   "cell_type": "code",
   "execution_count": 62,
   "metadata": {},
   "outputs": [
    {
     "name": "stdout",
     "output_type": "stream",
     "text": [
      " "
     ]
    },
    {
     "name": "stdout",
     "output_type": "stream",
     "text": [
      "         354 function calls (270 primitive calls) in 0.002 seconds\n",
      "\n",
      "   Ordered by: internal time\n",
      "\n",
      "   ncalls  tottime  percall  cumtime  percall filename:lineno(function)\n",
      "   174/90    0.001    0.000    0.002    0.000 3579666351.py:1(explore)\n",
      "      174    0.000    0.000    0.000    0.000 {method 'nonzero' of 'numpy.ndarray' objects}\n",
      "        1    0.000    0.000    0.002    0.002 {built-in method builtins.exec}\n",
      "        1    0.000    0.000    0.002    0.002 222052600.py:1(solve_kleene)\n",
      "        1    0.000    0.000    0.000    0.000 graph.py:759(number_of_nodes)\n",
      "        1    0.000    0.000    0.002    0.002 <string>:1(<module>)\n",
      "        1    0.000    0.000    0.000    0.000 {built-in method builtins.len}\n",
      "        1    0.000    0.000    0.000    0.000 {method 'disable' of '_lsprof.Profiler' objects}"
     ]
    }
   ],
   "source": [
    "\n",
    "%prun solve_kleene()\n"
   ]
  },
  {
   "cell_type": "code",
   "execution_count": 64,
   "metadata": {},
   "outputs": [
    {
     "data": {
      "text/plain": [
       "1.9333333333333333"
      ]
     },
     "execution_count": 64,
     "metadata": {},
     "output_type": "execute_result"
    }
   ],
   "source": [
    "174/90 "
   ]
  },
  {
   "cell_type": "markdown",
   "metadata": {},
   "source": [
    "## Big tests"
   ]
  },
  {
   "cell_type": "code",
   "execution_count": null,
   "metadata": {},
   "outputs": [],
   "source": [
    "# V = 50\n",
    "# graph = nx.random_k_out_graph(V, 3, 3)\n",
    "# # graph = nx.binomial_tree(5)\n",
    "# init_from_nx(graph)\n",
    "V = 10000\n",
    "# graph = nx.random_k_out_graph(V, 3, 3)\n",
    "# graph = nx.binomial_tree(5)\n",
    "graph = nx.soft_random_geometric_graph(V, .1)\n",
    "init_from_nx(graph)\n",
    "drawnext(base_only=True)\n"
   ]
  },
  {
   "cell_type": "code",
   "execution_count": 19,
   "metadata": {},
   "outputs": [],
   "source": [
    "def shell_example(p=.01):\n",
    "    start = 19\n",
    "    graph = nx.to_directed(nx.watts_strogatz_graph(20,5, p, seed=10))\n",
    "    init_from_nx(graph)\n",
    "    LAYOUT = lambda g: dw.layout.spring_layout(g, seed=42, iterations=40)\n",
    "    drawnext(s=start)\n",
    "    explore(start, start)\n",
    "    drawnext()\n",
    "    overlap = (C & N)\n",
    "    if overlap.any():\n",
    "        print(\"Overlap at:\")\n",
    "        print(np.transpose(overlap.nonzero()))\n",
    "    plt.pause(1)\n",
    "    drawnext(filter_c=start)\n",
    "shell_example(.1)"
   ]
  },
  {
   "cell_type": "code",
   "execution_count": 18,
   "metadata": {},
   "outputs": [],
   "source": [
    "# drawnext(filter_c=11)\n",
    "shell_example(.1)\n"
   ]
  },
  {
   "cell_type": "code",
   "execution_count": null,
   "metadata": {},
   "outputs": [],
   "source": [
    "nt = Network('1000px', '1000px', notebook=False, directed=True, )\n",
    "# nt.show_buttons(filter_=[])\n",
    "nt.set_options(\"\"\"var options = {\n",
    "  \"edges\": {\n",
    "    \"arrows\": {\n",
    "      \"to\": {\n",
    "        \"enabled\": true,\n",
    "        \"scaleFactor\": 0.35\n",
    "      }\n",
    "    },\n",
    "    \"smooth\": false\n",
    "  },\n",
    "  \"physics\": {\n",
    "    \"minVelocity\": 0.75\n",
    "  }\n",
    "}\"\"\")\n",
    "nt.from_nx(G)\n",
    "nt.show('a.html')"
   ]
  },
  {
   "cell_type": "code",
   "execution_count": null,
   "metadata": {},
   "outputs": [],
   "source": []
  }
 ],
 "metadata": {
  "interpreter": {
   "hash": "6c8e67d5701bdedea3dc09ffc81133f9b795b77718725fc3bd77d0647de6eb32"
  },
  "kernelspec": {
   "display_name": "Python 3.9.5 64-bit ('base': conda)",
   "language": "python",
   "name": "python3"
  },
  "language_info": {
   "codemirror_mode": {
    "name": "ipython",
    "version": 3
   },
   "file_extension": ".py",
   "mimetype": "text/x-python",
   "name": "python",
   "nbconvert_exporter": "python",
   "pygments_lexer": "ipython3",
   "version": "3.9.5"
  },
  "orig_nbformat": 4
 },
 "nbformat": 4,
 "nbformat_minor": 2
}
