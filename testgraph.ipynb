{
 "cells": [
  {
   "cell_type": "code",
   "execution_count": 1,
   "metadata": {},
   "outputs": [],
   "source": [
    "import numpy as np\n",
    "from pyvis.network import Network\n",
    "import networkx as nx\n",
    "from networkx import drawing as dw\n",
    "import matplotlib.pyplot as plt\n",
    "%matplotlib qt5"
   ]
  },
  {
   "cell_type": "code",
   "execution_count": 2,
   "metadata": {},
   "outputs": [],
   "source": [
    "REAL_PATH = r\"D:\\code\\studie\\eds-quicksilver-21-team-4\\workload\\real\\1\\graph.nt\"\n",
    "SYN_PATH = r\"D:\\code\\studie\\eds-quicksilver-21-team-4\\workload\\syn\\1\\graph.nt\"\n",
    "LAYOUT = lambda g: dw.layout.spring_layout(g, seed=42, iterations=60)\n",
    "# LAYOUT = lambda g: dw.layout.spectral_layout(g)\n",
    "# LAYOUT = lambda g: dw.layout.planar_layout(g)"
   ]
  },
  {
   "cell_type": "markdown",
   "metadata": {},
   "source": [
    "# Graph Initializers \n"
   ]
  },
  {
   "cell_type": "code",
   "execution_count": 3,
   "metadata": {},
   "outputs": [],
   "source": [
    "binary_generator = np.random.default_rng(seed=42)\n",
    "def init():\n",
    "    global C, N, S, G, count\n",
    "    count = 0\n",
    "    C = np.zeros((10,10), dtype='int')\n",
    "    # N = np.random.randint(2, size=(10,10), )\n",
    "    N = np.array([\n",
    "        [0, 1, 0, 0, 0, 0, 0, 0, 0, 0],\n",
    "        [0, 0, 1, 0, 0, 0, 0, 0, 0, 0],\n",
    "        [0, 0, 0, 1, 0, 0, 0, 0, 0, 0],\n",
    "        [0, 0, 0, 0, 1, 0, 0, 0, 0, 0],\n",
    "        [0, 0, 0, 0, 0, 1, 0, 0, 0, 0],\n",
    "        [0, 0, 0, 0, 0, 0, 1, 0, 0, 0],\n",
    "        [0, 0, 0, 0, 0, 0, 0, 1, 0, 0],\n",
    "        [0, 0, 0, 0, 0, 0, 0, 0, 1, 0],\n",
    "        [0, 0, 0, 0, 0, 0, 0, 0, 0, 1],\n",
    "        [0, 0, 0, 0, 0, 0, 1, 0, 0, 0]])\n",
    "    S = N.copy()\n",
    "    G = nx.DiGraph(S)\n",
    "\n",
    "def init2(size = 10):\n",
    "    global C, N, S, G, count\n",
    "    count = 0\n",
    "    C = np.zeros((size,size), dtype='int')\n",
    "    N = np.random.randint(2, size=(size,size), ) & np.random.randint(2, size=(size,size), )\n",
    "    S = N.copy()\n",
    "    G = nx.DiGraph(S)\n",
    "\n",
    "def init15example():\n",
    "    global C, N, S, G, count\n",
    "    count = 0\n",
    "    C = np.zeros((15,15), dtype='int')\n",
    "    N = np.array([[0, 0, 0, 1, 1, 1, 0, 0, 1, 0, 1, 1, 0, 1, 1],\n",
    "       [0, 0, 1, 0, 0, 0, 0, 0, 1, 1, 0, 0, 1, 0, 0],\n",
    "       [0, 0, 0, 0, 0, 0, 0, 0, 1, 0, 0, 0, 0, 0, 0],\n",
    "       [0, 0, 0, 0, 1, 0, 1, 0, 0, 0, 0, 0, 0, 0, 0],\n",
    "       [0, 1, 1, 1, 0, 0, 1, 1, 1, 0, 0, 1, 0, 0, 1],\n",
    "       [0, 0, 1, 0, 0, 0, 0, 0, 0, 0, 0, 0, 0, 0, 0],\n",
    "       [0, 0, 0, 1, 0, 1, 0, 0, 1, 0, 1, 0, 1, 1, 1],\n",
    "       [1, 0, 1, 0, 1, 0, 0, 0, 0, 1, 1, 0, 0, 0, 1],\n",
    "       [0, 0, 0, 0, 0, 1, 0, 0, 0, 0, 0, 0, 0, 0, 0],\n",
    "       [0, 0, 1, 0, 0, 1, 0, 0, 0, 1, 0, 1, 0, 0, 0],\n",
    "       [0, 0, 0, 0, 0, 1, 0, 0, 0, 1, 0, 0, 0, 0, 0],\n",
    "       [0, 0, 0, 0, 0, 1, 0, 0, 1, 0, 0, 0, 1, 0, 1],\n",
    "       [1, 0, 0, 1, 1, 1, 0, 0, 0, 0, 0, 0, 0, 1, 0],\n",
    "       [0, 0, 1, 1, 0, 0, 0, 0, 1, 1, 0, 0, 1, 0, 1],\n",
    "       [1, 0, 1, 0, 0, 0, 0, 1, 0, 1, 0, 1, 1, 0, 0]])\n",
    "    S = N.copy()\n",
    "    G = nx.DiGraph(S)\n",
    "\n",
    "def reset_N_and_C():\n",
    "    global C, N, S, G, count\n",
    "    count = 0\n",
    "    C[:] = 0\n",
    "    N = S.copy()\n",
    "    S = N.copy()\n",
    "    G = nx.DiGraph(S)\n",
    "\n",
    "def initempty(size = 10):\n",
    "    global C, N, S, G, count\n",
    "    count = 0\n",
    "    C = np.zeros((size,size), dtype='int')\n",
    "    N = np.zeros((size,size), dtype='int')\n",
    "    S = N.copy()\n",
    "    G = nx.DiGraph(S)\n",
    "\n",
    "\n",
    "def init_from_nx(graph, p=1):\n",
    "    global C, N, S, G, count\n",
    "    count = 0\n",
    "    N = nx.to_numpy_array(graph, dtype='int')\n",
    "    if 0 <= p < 1:\n",
    "        mask = binary_generator.binomial(1, p, size=N.shape)\n",
    "        N &= mask\n",
    "    elif not p == 1: raise ValueError(\"Probability p must be in range [0, 1].\")\n",
    "    C = np.zeros_like(N)\n",
    "    S = N.copy()\n",
    "    G = nx.DiGraph(S)\n",
    "    # G = graph\n",
    "\n",
    "def init_TC_union(tc1, tc2, overlap=.5):\n",
    "    assert tc1.shape == tc2.shape\n",
    "    global C, N, S, G, count\n",
    "    count = 0\n",
    "    old_size = tc1.shape[0]\n",
    "    new_v = int(old_size * (1-overlap))\n",
    "    size = old_size + new_v\n",
    "    C = np.zeros((size,size), dtype='int')\n",
    "    C[:old_size,:old_size] = tc1\n",
    "    N = np.zeros((size,size), dtype='int')\n",
    "    N[new_v:,new_v:] = tc2\n",
    "    S = C | N\n",
    "    G = nx.DiGraph(S)\n",
    "    \n",
    "\n",
    "init()"
   ]
  },
  {
   "cell_type": "code",
   "execution_count": 78,
   "metadata": {},
   "outputs": [],
   "source": [
    "def init_balanced_example():\n",
    "    \"\"\"Generated with:\n",
    "    V = 20\n",
    "    graph = nx.soft_random_geometric_graph(V, .85, 4)\n",
    "    init_from_nx(graph, p=.35)\n",
    "    drawnext(base_only=True)\n",
    "    \"\"\"\n",
    "    global C, N, S, G, count\n",
    "    count = 0\n",
    "    N = np.array(\n",
    "   [[0, 0, 0, 0, 1, 0, 0, 0, 1, 0, 1, 0, 0, 0, 0, 0, 0, 0, 0, 0],\n",
    "    [0, 0, 0, 0, 0, 0, 0, 0, 0, 0, 0, 0, 0, 0, 0, 0, 0, 0, 1, 1],\n",
    "    [0, 0, 0, 0, 1, 0, 0, 0, 0, 0, 0, 0, 0, 0, 0, 0, 0, 0, 0, 0],\n",
    "    [0, 0, 0, 0, 0, 0, 0, 0, 0, 1, 0, 0, 0, 1, 0, 0, 0, 0, 1, 0],\n",
    "    [1, 0, 0, 0, 0, 0, 0, 0, 0, 0, 0, 0, 0, 0, 0, 0, 0, 0, 0, 0],\n",
    "    [0, 0, 0, 0, 0, 0, 1, 0, 0, 0, 0, 0, 1, 0, 0, 0, 0, 0, 0, 0],\n",
    "    [0, 0, 0, 0, 0, 1, 0, 1, 1, 0, 0, 1, 0, 0, 0, 0, 1, 0, 0, 0],\n",
    "    [1, 1, 0, 0, 0, 0, 0, 0, 0, 0, 0, 0, 0, 0, 0, 0, 0, 0, 0, 1],\n",
    "    [1, 0, 0, 1, 0, 0, 1, 0, 0, 0, 0, 0, 1, 0, 0, 0, 0, 0, 0, 0],\n",
    "    [0, 0, 0, 0, 0, 1, 0, 0, 0, 0, 0, 0, 0, 0, 0, 0, 0, 0, 0, 0],\n",
    "    [0, 1, 0, 0, 0, 1, 0, 0, 0, 0, 0, 0, 0, 0, 0, 0, 0, 0, 0, 0],\n",
    "    [0, 0, 0, 0, 0, 0, 1, 0, 0, 0, 0, 0, 0, 1, 0, 0, 1, 0, 0, 1],\n",
    "    [1, 0, 0, 0, 1, 0, 0, 0, 1, 0, 0, 0, 0, 0, 0, 0, 0, 0, 0, 0],\n",
    "    [0, 0, 0, 1, 0, 0, 0, 0, 0, 0, 0, 0, 0, 0, 0, 0, 1, 0, 0, 1],\n",
    "    [0, 0, 0, 0, 0, 0, 0, 0, 0, 0, 1, 0, 0, 0, 0, 0, 0, 0, 0, 0],\n",
    "    [0, 0, 1, 0, 0, 0, 0, 0, 0, 0, 0, 0, 0, 0, 0, 0, 0, 0, 0, 0],\n",
    "    [0, 0, 0, 0, 0, 0, 1, 0, 0, 0, 1, 0, 0, 1, 0, 0, 0, 0, 0, 0],\n",
    "    [0, 0, 0, 0, 0, 0, 0, 0, 0, 0, 1, 0, 0, 0, 0, 0, 1, 0, 0, 0],\n",
    "    [0, 0, 0, 1, 0, 1, 0, 0, 0, 0, 0, 0, 0, 1, 0, 0, 0, 0, 0, 0],\n",
    "    [0, 1, 0, 0, 0, 0, 0, 0, 0, 0, 0, 1, 0, 0, 0, 0, 0, 0, 1, 0]])\n",
    "    C = np.zeros_like(N)\n",
    "    S = N.copy()\n",
    "    G = nx.DiGraph(S)\n",
    "init_balanced_example()"
   ]
  },
  {
   "cell_type": "markdown",
   "metadata": {},
   "source": [
    "# Closure algorithm"
   ]
  },
  {
   "cell_type": "code",
   "execution_count": 86,
   "metadata": {},
   "outputs": [],
   "source": [
    "def explore(s, root):\n",
    "    drawnext(s, explore=True)\n",
    "    for t in N[s].nonzero()[0]:\n",
    "        if not C[root,t]: # needs to be checked as many times as N has ones.\n",
    "            C[root, t] = 1 # after exploring, this node known by the root.\n",
    "            N[s,t] = 0 # pop this front (covered in N update below)\n",
    "            drawnext(t, explore=True)\n",
    "            explore(t, root)\n",
    "            C[s] |= C[t] # pull target's cover into current node\n",
    "            C[s,t] = 1 # and add the target itself to the cover\n",
    "            N[s] = ~C[s] & (N[s] | N[t])\n",
    "            drawnext(s)\n",
    "    drawnext(s)\n",
    "    \n",
    "    # overlap = (C[s] & N[s])\n",
    "    # if s != root:\n",
    "    #     assert not overlap.any(), f\"{s=} overlap: {np.transpose(overlap.nonzero())}\""
   ]
  },
  {
   "cell_type": "markdown",
   "metadata": {},
   "source": [
    "## Define Visualization Function"
   ]
  },
  {
   "cell_type": "code",
   "execution_count": 76,
   "metadata": {},
   "outputs": [],
   "source": [
    "fig = plt.figure(1, figsize=(10,10))\n",
    "plt.show()\n",
    "plt.tight_layout()\n",
    "\n",
    "def drawnext(s=None, explore=False, filter_c=None, base_only=False):\n",
    "    global G, count\n",
    "\n",
    "    plt.clf()\n",
    "    \n",
    "    layout = LAYOUT(G)\n",
    "    # nx.draw_circular(G, with_labels=True, font_weight='bold', edge_color='blue', width=10, alpha=.3, )\n",
    "    nx.draw_networkx_edges(\n",
    "        G,\n",
    "        layout,\n",
    "        edge_color='blue',\n",
    "        width=2 if filter_c else 3,\n",
    "        alpha=.7 if filter_c else .5,\n",
    "        node_size=400,\n",
    "        arrowsize=20,\n",
    "        min_source_margin=14,\n",
    "        min_target_margin=5\n",
    "    )\n",
    "    nx.draw_networkx_nodes(G, layout, node_color='w', edgecolors='k', node_size=400)\n",
    "    nx.draw_networkx_labels(G, layout)\n",
    "    if base_only: return\n",
    "\n",
    "    Gn = nx.DiGraph(N)\n",
    "    Gc = nx.DiGraph(C)\n",
    "    nx.draw_networkx_edges(Gn,\n",
    "                           layout,\n",
    "                           edge_color='red',\n",
    "                           width=3.5,\n",
    "                           alpha=.1 if filter_c else .7,\n",
    "                           arrowstyle='-[',\n",
    "                           min_target_margin=27,\n",
    "                           arrowsize=12,\n",
    "                           connectionstyle='arc3,rad=0.15')\n",
    "    nx.draw_networkx_edges(Gc,\n",
    "                           layout,\n",
    "                           edge_color='k',\n",
    "                           alpha=.7,\n",
    "                           width=4 if filter_c else 3,\n",
    "                           arrowsize=25 if filter_c else 15,\n",
    "                           connectionstyle='arc3,rad=0.1',\n",
    "                           edgelist=Gc.edges(filter_c))\n",
    "    if s is not None or filter_c is not None:\n",
    "        highlight_node = s if s is not None else filter_c\n",
    "        select_color = 'white' if filter_c else 'red' if explore else 'blue'\n",
    "        nx.draw_networkx_nodes(G,\n",
    "                               layout,\n",
    "                               node_color=select_color,\n",
    "                               edgecolors='k',\n",
    "                               node_size=1000,\n",
    "                               nodelist=[highlight_node])\n",
    "    count+=1\n",
    "\n",
    "    plt.title(str(count))\n",
    "    plt.pause(.01)\n",
    "drawnext(filter_c=None)"
   ]
  },
  {
   "cell_type": "markdown",
   "metadata": {},
   "source": [
    "# Experiments \n"
   ]
  },
  {
   "cell_type": "markdown",
   "metadata": {},
   "source": [
    "\n",
    "## Initialization\n"
   ]
  },
  {
   "cell_type": "code",
   "execution_count": 68,
   "metadata": {},
   "outputs": [],
   "source": [
    "LAYOUT = lambda g: dw.layout.spring_layout(g, seed=42, iterations=146)\n",
    "# LAYOUT = lambda g: dw.layout.spectral_layout(g)\n",
    "# LAYOUT = lambda g: dw.layout.planar_layout(g)\n",
    "drawnext(base_only=True)\n"
   ]
  },
  {
   "cell_type": "code",
   "execution_count": 46,
   "metadata": {},
   "outputs": [],
   "source": [
    "V = 20\n",
    "# graph = nx.path_graph(50, create_using=nx.DiGraph)\n",
    "# graph = nx.to_directed(nx.watts_strogatz_graph(20,3, .4))\n",
    "# graph = nx.random_k_out_graph(V, 3, 3)\n",
    "# graph = nx.binomial_tree(5)\n",
    "graph = nx.soft_random_geometric_graph(V, .85, 4)\n",
    "init_from_nx(graph, p=.35)\n",
    "drawnext(base_only=True)"
   ]
  },
  {
   "cell_type": "code",
   "execution_count": 87,
   "metadata": {},
   "outputs": [],
   "source": [
    "init_balanced_example()"
   ]
  },
  {
   "cell_type": "markdown",
   "metadata": {},
   "source": [
    "## Solve Partial:"
   ]
  },
  {
   "cell_type": "code",
   "execution_count": 89,
   "metadata": {},
   "outputs": [],
   "source": [
    "start = 6\n",
    "drawnext(s=start)\n",
    "explore(start, start)\n",
    "drawnext()\n",
    "overlap = (C & N)\n",
    "if overlap.any():\n",
    "    print(\"Overlap at:\")\n",
    "    print(np.transpose(overlap.nonzero()))\n",
    "plt.pause(1)\n",
    "drawnext(filter_c=start)"
   ]
  },
  {
   "cell_type": "code",
   "execution_count": null,
   "metadata": {},
   "outputs": [
    {
     "name": "stdout",
     "output_type": "stream",
     "text": [
      " "
     ]
    },
    {
     "name": "stdout",
     "output_type": "stream",
     "text": [
      "         184 function calls (125 primitive calls) in 0.001 seconds\n",
      "\n",
      "   Ordered by: internal time\n",
      "\n",
      "   ncalls  tottime  percall  cumtime  percall filename:lineno(function)\n",
      "    89/30    0.000    0.000    0.001    0.000 2699899426.py:1(explore)\n",
      "       89    0.000    0.000    0.000    0.000 {method 'nonzero' of 'numpy.ndarray' objects}\n",
      "        1    0.000    0.000    0.001    0.001 222052600.py:1(solve_kleene)\n",
      "        1    0.000    0.000    0.001    0.001 {built-in method builtins.exec}\n",
      "        1    0.000    0.000    0.000    0.000 graph.py:759(number_of_nodes)\n",
      "        1    0.000    0.000    0.001    0.001 <string>:1(<module>)\n",
      "        1    0.000    0.000    0.000    0.000 {built-in method builtins.len}\n",
      "        1    0.000    0.000    0.000    0.000 {method 'disable' of '_lsprof.Profiler' objects}"
     ]
    }
   ],
   "source": [
    "# graph = nx.path_graph(50, create_using=nx.DiGraph)\n",
    "graph = nx.to_directed(nx.watts_strogatz_graph(30, 3, .4))\n",
    "\n",
    "init_from_nx(graph, p=.9)\n",
    "drawnext(base_only=True)\n",
    "%prun solve_kleene()"
   ]
  },
  {
   "cell_type": "code",
   "execution_count": null,
   "metadata": {},
   "outputs": [],
   "source": [
    "T2 = C.copy()\n",
    "S2 = S.copy()"
   ]
  },
  {
   "cell_type": "code",
   "execution_count": null,
   "metadata": {},
   "outputs": [
    {
     "name": "stdout",
     "output_type": "stream",
     "text": [
      " "
     ]
    },
    {
     "name": "stdout",
     "output_type": "stream",
     "text": [
      "         226 function calls (166 primitive calls) in 0.001 seconds\n",
      "\n",
      "   Ordered by: internal time\n",
      "\n",
      "   ncalls  tottime  percall  cumtime  percall filename:lineno(function)\n",
      "   110/50    0.001    0.000    0.001    0.000 3579666351.py:1(explore)\n",
      "      110    0.000    0.000    0.000    0.000 {method 'nonzero' of 'numpy.ndarray' objects}\n",
      "        1    0.000    0.000    0.001    0.001 {built-in method builtins.exec}\n",
      "        1    0.000    0.000    0.001    0.001 222052600.py:1(solve_kleene)\n",
      "        1    0.000    0.000    0.000    0.000 graph.py:759(number_of_nodes)\n",
      "        1    0.000    0.000    0.001    0.001 <string>:1(<module>)\n",
      "        1    0.000    0.000    0.000    0.000 {built-in method builtins.len}\n",
      "        1    0.000    0.000    0.000    0.000 {method 'disable' of '_lsprof.Profiler' objects}"
     ]
    }
   ],
   "source": [
    "init_TC_union(T1, T2, overlap=1)\n",
    "%prun solve_kleene()\n",
    "\n"
   ]
  },
  {
   "cell_type": "code",
   "execution_count": null,
   "metadata": {},
   "outputs": [
    {
     "name": "stdout",
     "output_type": "stream",
     "text": [
      " "
     ]
    },
    {
     "name": "stdout",
     "output_type": "stream",
     "text": [
      "         350 function calls (273 primitive calls) in 0.001 seconds\n",
      "\n",
      "   Ordered by: internal time\n",
      "\n",
      "   ncalls  tottime  percall  cumtime  percall filename:lineno(function)\n",
      "   172/95    0.001    0.000    0.001    0.000 3579666351.py:1(explore)\n",
      "      172    0.000    0.000    0.000    0.000 {method 'nonzero' of 'numpy.ndarray' objects}\n",
      "        1    0.000    0.000    0.001    0.001 222052600.py:1(solve_kleene)\n",
      "        1    0.000    0.000    0.001    0.001 {built-in method builtins.exec}\n",
      "        1    0.000    0.000    0.000    0.000 {built-in method builtins.len}\n",
      "        1    0.000    0.000    0.000    0.000 graph.py:759(number_of_nodes)\n",
      "        1    0.000    0.000    0.001    0.001 <string>:1(<module>)\n",
      "        1    0.000    0.000    0.000    0.000 {method 'disable' of '_lsprof.Profiler' objects}"
     ]
    }
   ],
   "source": [
    "init_TC_union(T1, S2, overlap=.1)\n",
    "%prun solve_kleene()\n",
    "\n"
   ]
  },
  {
   "cell_type": "code",
   "execution_count": null,
   "metadata": {},
   "outputs": [
    {
     "data": {
      "text/plain": [
       "(1.88, 1.8105263157894738)"
      ]
     },
     "execution_count": 86,
     "metadata": {},
     "output_type": "execute_result"
    }
   ],
   "source": [
    "141/75, 172/95"
   ]
  },
  {
   "cell_type": "code",
   "execution_count": null,
   "metadata": {},
   "outputs": [],
   "source": [
    "LAYOUT = lambda g: dw.layout.spring_layout(g, seed=42, iterations=60)\n",
    "drawnext(base_only=False)\n"
   ]
  },
  {
   "cell_type": "markdown",
   "metadata": {},
   "source": [
    "# Test Complete Solve Time"
   ]
  },
  {
   "cell_type": "code",
   "execution_count": null,
   "metadata": {},
   "outputs": [],
   "source": [
    "def solve_kleene():\n",
    "    global G\n",
    "    for root in range(G.number_of_nodes()):\n",
    "        explore(root, root)"
   ]
  },
  {
   "cell_type": "code",
   "execution_count": null,
   "metadata": {},
   "outputs": [
    {
     "name": "stdout",
     "output_type": "stream",
     "text": [
      " "
     ]
    },
    {
     "name": "stdout",
     "output_type": "stream",
     "text": [
      "         262 function calls (184 primitive calls) in 0.001 seconds\n",
      "\n",
      "   Ordered by: internal time\n",
      "\n",
      "   ncalls  tottime  percall  cumtime  percall filename:lineno(function)\n",
      "   128/50    0.001    0.000    0.001    0.000 3579666351.py:1(explore)\n",
      "      128    0.000    0.000    0.000    0.000 {method 'nonzero' of 'numpy.ndarray' objects}\n",
      "        1    0.000    0.000    0.001    0.001 {built-in method builtins.exec}\n",
      "        1    0.000    0.000    0.001    0.001 222052600.py:1(solve_kleene)\n",
      "        1    0.000    0.000    0.000    0.000 graph.py:759(number_of_nodes)\n",
      "        1    0.000    0.000    0.001    0.001 <string>:1(<module>)\n",
      "        1    0.000    0.000    0.000    0.000 {built-in method builtins.len}\n",
      "        1    0.000    0.000    0.000    0.000 {method 'disable' of '_lsprof.Profiler' objects}"
     ]
    }
   ],
   "source": [
    "%prun solve_kleene()\n"
   ]
  },
  {
   "cell_type": "code",
   "execution_count": null,
   "metadata": {},
   "outputs": [
    {
     "data": {
      "text/plain": [
       "(1.9263157894736842, 2.38)"
      ]
     },
     "execution_count": 74,
     "metadata": {},
     "output_type": "execute_result"
    }
   ],
   "source": [
    " 183/95 , 119/50 "
   ]
  },
  {
   "cell_type": "code",
   "execution_count": null,
   "metadata": {},
   "outputs": [
    {
     "name": "stdout",
     "output_type": "stream",
     "text": [
      " "
     ]
    },
    {
     "name": "stdout",
     "output_type": "stream",
     "text": [
      "         324 function calls (240 primitive calls) in 0.002 seconds\n",
      "\n",
      "   Ordered by: internal time\n",
      "\n",
      "   ncalls  tottime  percall  cumtime  percall filename:lineno(function)\n",
      "   159/75    0.001    0.000    0.001    0.000 3579666351.py:1(explore)\n",
      "      159    0.000    0.000    0.000    0.000 {method 'nonzero' of 'numpy.ndarray' objects}\n",
      "        1    0.000    0.000    0.002    0.002 222052600.py:1(solve_kleene)\n",
      "        1    0.000    0.000    0.002    0.002 {built-in method builtins.exec}\n",
      "        1    0.000    0.000    0.000    0.000 graph.py:759(number_of_nodes)\n",
      "        1    0.000    0.000    0.000    0.000 {built-in method builtins.len}\n",
      "        1    0.000    0.000    0.002    0.002 <string>:1(<module>)\n",
      "        1    0.000    0.000    0.000    0.000 {method 'disable' of '_lsprof.Profiler' objects}"
     ]
    }
   ],
   "source": [
    "%prun solve_kleene()\n"
   ]
  },
  {
   "cell_type": "code",
   "execution_count": null,
   "metadata": {},
   "outputs": [
    {
     "data": {
      "text/plain": [
       "2.12"
      ]
     },
     "execution_count": 63,
     "metadata": {},
     "output_type": "execute_result"
    }
   ],
   "source": [
    "  159/75"
   ]
  },
  {
   "cell_type": "code",
   "execution_count": null,
   "metadata": {},
   "outputs": [
    {
     "name": "stdout",
     "output_type": "stream",
     "text": [
      " "
     ]
    },
    {
     "name": "stdout",
     "output_type": "stream",
     "text": [
      "         354 function calls (270 primitive calls) in 0.002 seconds\n",
      "\n",
      "   Ordered by: internal time\n",
      "\n",
      "   ncalls  tottime  percall  cumtime  percall filename:lineno(function)\n",
      "   174/90    0.001    0.000    0.002    0.000 3579666351.py:1(explore)\n",
      "      174    0.000    0.000    0.000    0.000 {method 'nonzero' of 'numpy.ndarray' objects}\n",
      "        1    0.000    0.000    0.002    0.002 {built-in method builtins.exec}\n",
      "        1    0.000    0.000    0.002    0.002 222052600.py:1(solve_kleene)\n",
      "        1    0.000    0.000    0.000    0.000 graph.py:759(number_of_nodes)\n",
      "        1    0.000    0.000    0.002    0.002 <string>:1(<module>)\n",
      "        1    0.000    0.000    0.000    0.000 {built-in method builtins.len}\n",
      "        1    0.000    0.000    0.000    0.000 {method 'disable' of '_lsprof.Profiler' objects}"
     ]
    }
   ],
   "source": [
    "\n",
    "%prun solve_kleene()\n"
   ]
  },
  {
   "cell_type": "code",
   "execution_count": null,
   "metadata": {},
   "outputs": [
    {
     "data": {
      "text/plain": [
       "1.9333333333333333"
      ]
     },
     "execution_count": 64,
     "metadata": {},
     "output_type": "execute_result"
    }
   ],
   "source": [
    "174/90 "
   ]
  },
  {
   "cell_type": "markdown",
   "metadata": {},
   "source": [
    "## Big tests"
   ]
  },
  {
   "cell_type": "code",
   "execution_count": null,
   "metadata": {},
   "outputs": [],
   "source": [
    "# V = 50\n",
    "# graph = nx.random_k_out_graph(V, 3, 3)\n",
    "# # graph = nx.binomial_tree(5)\n",
    "# init_from_nx(graph)\n",
    "V = 10000\n",
    "# graph = nx.random_k_out_graph(V, 3, 3)\n",
    "# graph = nx.binomial_tree(5)\n",
    "graph = nx.soft_random_geometric_graph(V, .1)\n",
    "init_from_nx(graph)\n",
    "drawnext(base_only=True)\n"
   ]
  },
  {
   "cell_type": "code",
   "execution_count": 43,
   "metadata": {},
   "outputs": [
    {
     "ename": "NameError",
     "evalue": "name 'explore' is not defined",
     "output_type": "error",
     "traceback": [
      "\u001b[1;31m---------------------------------------------------------------------------\u001b[0m",
      "\u001b[1;31mNameError\u001b[0m                                 Traceback (most recent call last)",
      "Input \u001b[1;32mIn [43]\u001b[0m, in \u001b[0;36m<module>\u001b[1;34m\u001b[0m\n\u001b[0;32m     13\u001b[0m     plt\u001b[38;5;241m.\u001b[39mpause(\u001b[38;5;241m1\u001b[39m)\n\u001b[0;32m     14\u001b[0m     drawnext(filter_c\u001b[38;5;241m=\u001b[39mstart)\n\u001b[1;32m---> 15\u001b[0m \u001b[43mshell_example\u001b[49m\u001b[43m(\u001b[49m\u001b[38;5;241;43m.1\u001b[39;49m\u001b[43m)\u001b[49m\n",
      "Input \u001b[1;32mIn [43]\u001b[0m, in \u001b[0;36mshell_example\u001b[1;34m(p)\u001b[0m\n\u001b[0;32m      5\u001b[0m LAYOUT \u001b[38;5;241m=\u001b[39m \u001b[38;5;28;01mlambda\u001b[39;00m g: dw\u001b[38;5;241m.\u001b[39mlayout\u001b[38;5;241m.\u001b[39mspring_layout(g, seed\u001b[38;5;241m=\u001b[39m\u001b[38;5;241m42\u001b[39m, iterations\u001b[38;5;241m=\u001b[39m\u001b[38;5;241m40\u001b[39m)\n\u001b[0;32m      6\u001b[0m drawnext(s\u001b[38;5;241m=\u001b[39mstart)\n\u001b[1;32m----> 7\u001b[0m \u001b[43mexplore\u001b[49m(start, start)\n\u001b[0;32m      8\u001b[0m drawnext()\n\u001b[0;32m      9\u001b[0m overlap \u001b[38;5;241m=\u001b[39m (C \u001b[38;5;241m&\u001b[39m N)\n",
      "\u001b[1;31mNameError\u001b[0m: name 'explore' is not defined"
     ]
    }
   ],
   "source": [
    "def shell_example(p=.01):\n",
    "    start = 19\n",
    "    graph = nx.to_directed(nx.watts_strogatz_graph(20,5, p, seed=10))\n",
    "    init_from_nx(graph)\n",
    "    LAYOUT = lambda g: dw.layout.spring_layout(g, seed=42, iterations=40)\n",
    "    drawnext(s=start)\n",
    "    explore(start, start)\n",
    "    drawnext()\n",
    "    overlap = (C & N)\n",
    "    if overlap.any():\n",
    "        print(\"Overlap at:\")\n",
    "        print(np.transpose(overlap.nonzero()))\n",
    "    plt.pause(1)\n",
    "    drawnext(filter_c=start)\n",
    "shell_example(.1)"
   ]
  },
  {
   "cell_type": "code",
   "execution_count": null,
   "metadata": {},
   "outputs": [
    {
     "ename": "NameError",
     "evalue": "name 'shell_example' is not defined",
     "output_type": "error",
     "traceback": [
      "\u001b[1;31m---------------------------------------------------------------------------\u001b[0m",
      "\u001b[1;31mNameError\u001b[0m                                 Traceback (most recent call last)",
      "Input \u001b[1;32mIn [42]\u001b[0m, in \u001b[0;36m<module>\u001b[1;34m\u001b[0m\n\u001b[0;32m      1\u001b[0m drawnext(filter_c\u001b[38;5;241m=\u001b[39m\u001b[38;5;241m11\u001b[39m)\n\u001b[1;32m----> 2\u001b[0m \u001b[43mshell_example\u001b[49m(\u001b[38;5;241m.1\u001b[39m)\n",
      "\u001b[1;31mNameError\u001b[0m: name 'shell_example' is not defined"
     ]
    }
   ],
   "source": [
    "drawnext(filter_c=11)\n",
    "shell_example(.1)\n"
   ]
  },
  {
   "cell_type": "markdown",
   "metadata": {},
   "source": [
    "## Open Stored datasets"
   ]
  },
  {
   "cell_type": "code",
   "execution_count": null,
   "metadata": {},
   "outputs": [],
   "source": [
    "\n",
    "def open_data_set(path: str = REAL_PATH):\n",
    "    G = nx.DiGraph()\n",
    "    with open(path, \"r\") as f:\n",
    "        for i, line in enumerate(f.readlines()):\n",
    "            words = line.split(' ')\n",
    "            if len(words) == 1: \n",
    "                print(words[0])\n",
    "                continue\n",
    "            s, l, t, _ = words\n",
    "            G.add_edge(int(words[0]),int(words[2]), label=int(l))\n",
    "    print((G.number_of_nodes(), G.number_of_edges()))\n",
    "    return G\n",
    "\n",
    "def open_data_set_scan_subgraphs(path: str = REAL_PATH, max_label=36):\n",
    "    for subgraph in range(max_label+1):\n",
    "        G = nx.DiGraph()\n",
    "        with open(path, \"r\") as f:\n",
    "            for i, line in enumerate(f.readlines()):\n",
    "                words = line.split(' ')\n",
    "                if len(words) == 1: \n",
    "                    continue\n",
    "                s, l, t, _ = words\n",
    "                if int(l) == subgraph:\n",
    "                    G.add_edge(int(words[0]),int(words[2]))\n",
    "        print(subgraph, (G.number_of_nodes(), G.number_of_edges()))"
   ]
  },
  {
   "cell_type": "code",
   "execution_count": null,
   "metadata": {},
   "outputs": [],
   "source": [
    "import pickle\n",
    "\n",
    "# export calculated positions:\n",
    "# with open('real_positions.pickle', 'wb') as f:\n",
    "#     # Pickle the 'data' dictionary using the highest protocol available.\n",
    "#     pickle.dump(pos_real, f, pickle.HIGHEST_PROTOCOL)\n",
    "\n",
    "# import:\n",
    "G = open_data_set(REAL_PATH)\n",
    "\n",
    "with open('real_positions.pickle', 'rb') as f:\n",
    "    # Pickle the 'data' dictionary using the highest protocol available.\n",
    "    pos_real = pickle.load(f)\n",
    "plt.clf()\n",
    "nx.draw(G, pos_real, node_size=20)\n"
   ]
  }
 ],
 "metadata": {
  "interpreter": {
   "hash": "6c8e67d5701bdedea3dc09ffc81133f9b795b77718725fc3bd77d0647de6eb32"
  },
  "kernelspec": {
   "display_name": "Python 3.9.5 64-bit ('base': conda)",
   "language": "python",
   "name": "python3"
  },
  "language_info": {
   "codemirror_mode": {
    "name": "ipython",
    "version": 3
   },
   "file_extension": ".py",
   "mimetype": "text/x-python",
   "name": "python",
   "nbconvert_exporter": "python",
   "pygments_lexer": "ipython3",
   "version": "3.9.5"
  },
  "orig_nbformat": 4
 },
 "nbformat": 4,
 "nbformat_minor": 2
}
