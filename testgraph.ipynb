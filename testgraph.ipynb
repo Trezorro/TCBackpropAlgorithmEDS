{
 "cells": [
  {
   "cell_type": "code",
   "execution_count": 2,
   "metadata": {},
   "outputs": [],
   "source": [
    "import numpy as np\n",
    "from pyvis.network import Network\n",
    "import networkx as nx\n",
    "from networkx import drawing as dw\n",
    "import matplotlib.pyplot as plt\n",
    "%matplotlib qt5"
   ]
  },
  {
   "cell_type": "code",
   "execution_count": 3,
   "metadata": {},
   "outputs": [],
   "source": [
    "REAL_PATH = r\"D:\\code\\studie\\eds-quicksilver-21-team-4\\workload\\real\\1\\graph.nt\"\n",
    "SYN_PATH = r\"D:\\code\\studie\\eds-quicksilver-21-team-4\\workload\\syn\\1\\graph.nt\"\n",
    "LAYOUT = lambda g: dw.layout.spring_layout(g, seed=42, iterations=60)\n",
    "# LAYOUT = lambda g: dw.layout.spectral_layout(g)\n",
    "# LAYOUT = lambda g: dw.layout.planar_layout(g)"
   ]
  },
  {
   "cell_type": "markdown",
   "metadata": {},
   "source": [
    "# Graph Initializers \n"
   ]
  },
  {
   "cell_type": "code",
   "execution_count": 4,
   "metadata": {},
   "outputs": [],
   "source": [
    "binary_generator = np.random.default_rng(seed=42)\n",
    "def init():\n",
    "    global C, N, S, G, count\n",
    "    count = 0\n",
    "    C = np.zeros((10,10), dtype='int')\n",
    "    # N = np.random.randint(2, size=(10,10), )\n",
    "    N = np.array([\n",
    "        [0, 1, 0, 0, 0, 0, 0, 0, 0, 0],\n",
    "        [0, 0, 1, 0, 0, 0, 0, 0, 0, 0],\n",
    "        [0, 0, 0, 1, 0, 0, 0, 0, 0, 0],\n",
    "        [0, 0, 0, 0, 1, 0, 0, 0, 0, 0],\n",
    "        [0, 0, 0, 0, 0, 1, 0, 0, 0, 0],\n",
    "        [0, 0, 0, 0, 0, 0, 1, 0, 0, 0],\n",
    "        [0, 0, 0, 0, 0, 0, 0, 1, 0, 0],\n",
    "        [0, 0, 0, 0, 0, 0, 0, 0, 1, 0],\n",
    "        [0, 0, 0, 0, 0, 0, 0, 0, 0, 1],\n",
    "        [0, 0, 0, 0, 0, 0, 1, 0, 0, 0]])\n",
    "    S = N.copy()\n",
    "    G = nx.DiGraph(S)\n",
    "\n",
    "def init2(size = 10):\n",
    "    global C, N, S, G, count\n",
    "    count = 0\n",
    "    C = np.zeros((size,size), dtype='int')\n",
    "    N = np.random.randint(2, size=(size,size), ) & np.random.randint(2, size=(size,size), )\n",
    "    S = N.copy()\n",
    "    G = nx.DiGraph(S)\n",
    "\n",
    "def init15example():\n",
    "    global C, N, S, G, count\n",
    "    count = 0\n",
    "    C = np.zeros((15,15), dtype='int')\n",
    "    N = np.array([[0, 0, 0, 1, 1, 1, 0, 0, 1, 0, 1, 1, 0, 1, 1],\n",
    "       [0, 0, 1, 0, 0, 0, 0, 0, 1, 1, 0, 0, 1, 0, 0],\n",
    "       [0, 0, 0, 0, 0, 0, 0, 0, 1, 0, 0, 0, 0, 0, 0],\n",
    "       [0, 0, 0, 0, 1, 0, 1, 0, 0, 0, 0, 0, 0, 0, 0],\n",
    "       [0, 1, 1, 1, 0, 0, 1, 1, 1, 0, 0, 1, 0, 0, 1],\n",
    "       [0, 0, 1, 0, 0, 0, 0, 0, 0, 0, 0, 0, 0, 0, 0],\n",
    "       [0, 0, 0, 1, 0, 1, 0, 0, 1, 0, 1, 0, 1, 1, 1],\n",
    "       [1, 0, 1, 0, 1, 0, 0, 0, 0, 1, 1, 0, 0, 0, 1],\n",
    "       [0, 0, 0, 0, 0, 1, 0, 0, 0, 0, 0, 0, 0, 0, 0],\n",
    "       [0, 0, 1, 0, 0, 1, 0, 0, 0, 1, 0, 1, 0, 0, 0],\n",
    "       [0, 0, 0, 0, 0, 1, 0, 0, 0, 1, 0, 0, 0, 0, 0],\n",
    "       [0, 0, 0, 0, 0, 1, 0, 0, 1, 0, 0, 0, 1, 0, 1],\n",
    "       [1, 0, 0, 1, 1, 1, 0, 0, 0, 0, 0, 0, 0, 1, 0],\n",
    "       [0, 0, 1, 1, 0, 0, 0, 0, 1, 1, 0, 0, 1, 0, 1],\n",
    "       [1, 0, 1, 0, 0, 0, 0, 1, 0, 1, 0, 1, 1, 0, 0]])\n",
    "    S = N.copy()\n",
    "    G = nx.DiGraph(S)\n",
    "\n",
    "def reset_N_and_C():\n",
    "    global C, N, S, G, count\n",
    "    count = 0\n",
    "    C[:] = 0\n",
    "    N = S.copy()\n",
    "    S = N.copy()\n",
    "    G = nx.DiGraph(S)\n",
    "\n",
    "def initempty(size = 10):\n",
    "    global C, N, S, G, count\n",
    "    count = 0\n",
    "    C = np.zeros((size,size), dtype='int')\n",
    "    N = np.zeros((size,size), dtype='int')\n",
    "    S = N.copy()\n",
    "    G = nx.DiGraph(S)\n",
    "\n",
    "\n",
    "def init_from_nx(graph, p=1):\n",
    "    global C, N, S, G, count\n",
    "    count = 0\n",
    "    N = nx.to_numpy_array(graph, dtype='int')\n",
    "    if 0 <= p < 1:\n",
    "        mask = binary_generator.binomial(1, p, size=N.shape)\n",
    "        N &= mask\n",
    "    elif not p == 1: raise ValueError(\"Probability p must be in range [0, 1].\")\n",
    "    C = np.zeros_like(N)\n",
    "    S = N.copy()\n",
    "    G = nx.DiGraph(S)\n",
    "    # G = graph\n",
    "\n",
    "def init_TC_union(tc1, tc2, overlap=.5):\n",
    "    assert tc1.shape == tc2.shape\n",
    "    global C, N, S, G, count\n",
    "    count = 0\n",
    "    old_size = tc1.shape[0]\n",
    "    new_v = int(old_size * (1-overlap))\n",
    "    size = old_size + new_v\n",
    "    C = np.zeros((size,size), dtype='int')\n",
    "    C[:old_size,:old_size] = tc1\n",
    "    N = np.zeros((size,size), dtype='int')\n",
    "    N[new_v:,new_v:] = tc2\n",
    "    S = C | N\n",
    "    G = nx.DiGraph(S)\n",
    "    \n",
    "\n",
    "init()"
   ]
  },
  {
   "cell_type": "code",
   "execution_count": 5,
   "metadata": {},
   "outputs": [],
   "source": [
    "def init_balanced_example():\n",
    "    \"\"\"Used in example video.\n",
    "    \n",
    "    Generated with:\n",
    "        V = 20\n",
    "        graph = nx.soft_random_geometric_graph(V, .85, 4)\n",
    "        init_from_nx(graph, p=.35)\n",
    "        drawnext(base_only=True)\n",
    "    \"\"\"\n",
    "    global C, N, S, G, count\n",
    "    count = 0\n",
    "    N = np.array(\n",
    "   [[0, 0, 0, 0, 1, 0, 0, 0, 1, 0, 1, 0, 0, 0, 0, 0, 0, 0, 0, 0],\n",
    "    [0, 0, 0, 0, 0, 0, 0, 0, 0, 0, 0, 0, 0, 0, 0, 0, 0, 0, 1, 1],\n",
    "    [0, 0, 0, 0, 1, 0, 0, 0, 0, 0, 0, 0, 0, 0, 0, 0, 0, 0, 0, 0],\n",
    "    [0, 0, 0, 0, 0, 0, 0, 0, 0, 1, 0, 0, 0, 1, 0, 0, 0, 0, 1, 0],\n",
    "    [1, 0, 0, 0, 0, 0, 0, 0, 0, 0, 0, 0, 0, 0, 0, 0, 0, 0, 0, 0],\n",
    "    [0, 0, 0, 0, 0, 0, 1, 0, 0, 0, 0, 0, 1, 0, 0, 0, 0, 0, 0, 0],\n",
    "    [0, 0, 0, 0, 0, 1, 0, 1, 1, 0, 0, 1, 0, 0, 0, 0, 1, 0, 0, 0],\n",
    "    [1, 1, 0, 0, 0, 0, 0, 0, 0, 0, 0, 0, 0, 0, 0, 0, 0, 0, 0, 1],\n",
    "    [1, 0, 0, 1, 0, 0, 1, 0, 0, 0, 0, 0, 1, 0, 0, 0, 0, 0, 0, 0],\n",
    "    [0, 0, 0, 0, 0, 1, 0, 0, 0, 0, 0, 0, 0, 0, 0, 0, 0, 0, 0, 0],\n",
    "    [0, 1, 0, 0, 0, 1, 0, 0, 0, 0, 0, 0, 0, 0, 0, 0, 0, 0, 0, 0],\n",
    "    [0, 0, 0, 0, 0, 0, 1, 0, 0, 0, 0, 0, 0, 1, 0, 0, 1, 0, 0, 1],\n",
    "    [1, 0, 0, 0, 1, 0, 0, 0, 1, 0, 0, 0, 0, 0, 0, 0, 0, 0, 0, 0],\n",
    "    [0, 0, 0, 1, 0, 0, 0, 0, 0, 0, 0, 0, 0, 0, 0, 0, 1, 0, 0, 1],\n",
    "    [0, 0, 0, 0, 0, 0, 0, 0, 0, 0, 1, 0, 0, 0, 0, 0, 0, 0, 0, 0],\n",
    "    [0, 0, 1, 0, 0, 0, 0, 0, 0, 0, 0, 0, 0, 0, 0, 0, 0, 0, 0, 0],\n",
    "    [0, 0, 0, 0, 0, 0, 1, 0, 0, 0, 1, 0, 0, 1, 0, 0, 0, 0, 0, 0],\n",
    "    [0, 0, 0, 0, 0, 0, 0, 0, 0, 0, 1, 0, 0, 0, 0, 0, 1, 0, 0, 0],\n",
    "    [0, 0, 0, 1, 0, 1, 0, 0, 0, 0, 0, 0, 0, 1, 0, 0, 0, 0, 0, 0],\n",
    "    [0, 1, 0, 0, 0, 0, 0, 0, 0, 0, 0, 1, 0, 0, 0, 0, 0, 0, 1, 0]])\n",
    "    C = np.zeros_like(N)\n",
    "    S = N.copy()\n",
    "    G = nx.DiGraph(S)\n",
    "init_balanced_example()"
   ]
  },
  {
   "cell_type": "markdown",
   "metadata": {},
   "source": [
    "# Closure algorithm"
   ]
  },
  {
   "cell_type": "code",
   "execution_count": 6,
   "metadata": {},
   "outputs": [],
   "source": [
    "def explore_debug(s, root):\n",
    "    drawnext(s, color='red')\n",
    "    for t in N[s].nonzero()[0]:\n",
    "        if not C[root,t]: # needs to be checked as many times as N has ones.\n",
    "            C[root, t] = 1 # after exploring, this node known by the root.\n",
    "            if t == root: continue # Do not explore the root twice!\n",
    "            drawnext(t, color='red')\n",
    "            explore(t, root)\n",
    "            # Backpropagation:\n",
    "            C[s] |= C[t] # pull target's cover into current node\n",
    "            C[s,t] = 1 # and add the target itself to the cover\n",
    "            N[s] = ~C[s] & (N[s] | N[t])\n",
    "            # drawnext(s, color='blue')\n",
    "    drawnext(s, color='lime')\n",
    "    \n",
    "    overlap = (C[s] & N[s])\n",
    "    assert not overlap.any(), f\"{s=} overlap: {np.transpose(overlap.nonzero())}\""
   ]
  },
  {
   "cell_type": "code",
   "execution_count": 7,
   "metadata": {},
   "outputs": [],
   "source": [
    "# Same algo, but no visualizations and invariant checks:\n",
    "def explore(s, root):\n",
    "    for t in N[s].nonzero()[0]:\n",
    "        if not C[root,t]: # needs to be checked as many times as N has ones.\n",
    "            C[root, t] = 1 # after exploring, this node known by the root.\n",
    "            if t == root:\n",
    "                N[root,t] = 0\n",
    "                continue # Do not explore the root twice!\n",
    "            explore(t, root)\n",
    "            # Backpropagation:\n",
    "            C[s] |= C[t] # pull target's cover into current node\n",
    "            C[s,t] = 1 # and add the target itself to the cover\n",
    "            N[s] = ~C[s] & (N[s] | N[t])\n",
    "\n",
    "\n",
    "    overlap = (C[s] & N[s])\n",
    "    assert not overlap.any(), f\"{s=} overlap: {np.transpose(overlap.nonzero())}\""
   ]
  },
  {
   "cell_type": "markdown",
   "metadata": {},
   "source": [
    "## Define Visualization Function"
   ]
  },
  {
   "cell_type": "code",
   "execution_count": 8,
   "metadata": {},
   "outputs": [],
   "source": [
    "fig = plt.figure(1, figsize=(10,10))\n",
    "plt.show()\n",
    "plt.tight_layout()\n",
    "\n",
    "def drawnext(s=None, color='lightgray', filter_c=None, base_only=False):\n",
    "    global G, count\n",
    "\n",
    "    plt.clf()\n",
    "    \n",
    "    layout = LAYOUT(G)\n",
    "    # nx.draw_circular(G, with_labels=True, font_weight='bold', edge_color='blue', width=10, alpha=.3, )\n",
    "    nx.draw_networkx_edges(\n",
    "        G,\n",
    "        layout,\n",
    "        edge_color='blue',\n",
    "        width=2 if filter_c else 3,\n",
    "        alpha=.7 if filter_c else .5,\n",
    "        node_size=400,\n",
    "        arrowsize= 15 if filter_c else 20,\n",
    "        min_source_margin=14,\n",
    "        min_target_margin= 13 if filter_c else 5\n",
    "    )\n",
    "    nx.draw_networkx_nodes(G, layout, node_color='w', edgecolors='k', node_size=400)\n",
    "    nx.draw_networkx_labels(G, layout)\n",
    "    if base_only: return\n",
    "\n",
    "    Gn = nx.DiGraph(N)\n",
    "    Gc = nx.DiGraph(C)\n",
    "    nx.draw_networkx_edges(Gn,\n",
    "                           layout,\n",
    "                           edge_color='red',\n",
    "                           width=3.5,\n",
    "                           alpha=.1 if filter_c else .7,\n",
    "                           arrowstyle='-[',\n",
    "                           min_target_margin=27,\n",
    "                           arrowsize=12,\n",
    "                           connectionstyle='arc3,rad=0.15')\n",
    "    nx.draw_networkx_edges(Gc,\n",
    "                           layout,\n",
    "                           edge_color='k',\n",
    "                           alpha=.7,\n",
    "                           width=4 if filter_c else 3,\n",
    "                           arrowsize=25 if filter_c else 15,\n",
    "                           connectionstyle='arc3,rad=0.1',\n",
    "                           edgelist=Gc.edges(filter_c))\n",
    "    if s is not None or filter_c is not None:\n",
    "        highlight_node = s if s is not None else filter_c\n",
    "        select_color = color\n",
    "        nx.draw_networkx_nodes(G,\n",
    "                               layout,\n",
    "                               node_color=select_color,\n",
    "                               edgecolors='k',\n",
    "                               node_size=1000,\n",
    "                               nodelist=[highlight_node])\n",
    "    # count+=1\n",
    "    # plt.title(str(count))\n",
    "    plt.pause(.2)\n",
    "drawnext(1)\n",
    "plt.tight_layout()"
   ]
  },
  {
   "cell_type": "markdown",
   "metadata": {},
   "source": [
    "# Experiments \n"
   ]
  },
  {
   "cell_type": "markdown",
   "metadata": {},
   "source": [
    "## Solve Partial:"
   ]
  },
  {
   "cell_type": "markdown",
   "metadata": {},
   "source": [
    "\n",
    "### Initialization\n"
   ]
  },
  {
   "cell_type": "code",
   "execution_count": 25,
   "metadata": {},
   "outputs": [],
   "source": [
    "LAYOUT = lambda g: dw.layout.spring_layout(g, seed=42, iterations=30)\n",
    "# LAYOUT = lambda g: dw.layout.spectral_layout(g)\n",
    "# LAYOUT = lambda g: dw.layout.planar_layout(g)\n",
    "drawnext(base_only=True)\n",
    "plt.tight_layout()\n"
   ]
  },
  {
   "cell_type": "code",
   "execution_count": 8,
   "metadata": {},
   "outputs": [],
   "source": [
    "V = 20\n",
    "# graph = nx.path_graph(50, create_using=nx.DiGraph)\n",
    "# graph = nx.to_directed(nx.watts_strogatz_graph(20,3, .4))\n",
    "# graph = nx.random_k_out_graph(V, 3, 3)\n",
    "# graph = nx.binomial_tree(5)\n",
    "graph = nx.soft_random_geometric_graph(V, .85, 4)\n",
    "init_from_nx(graph, p=.35)\n",
    "drawnext(base_only=True)"
   ]
  },
  {
   "cell_type": "code",
   "execution_count": 49,
   "metadata": {},
   "outputs": [],
   "source": [
    "init_balanced_example()\n",
    "drawnext(base_only=True)"
   ]
  },
  {
   "cell_type": "markdown",
   "metadata": {},
   "source": [
    "### Solve for single root"
   ]
  },
  {
   "cell_type": "code",
   "execution_count": 52,
   "metadata": {},
   "outputs": [],
   "source": [
    "start = 1\n",
    "drawnext(s=start)\n",
    "explore(start, start)\n",
    "drawnext()\n",
    "overlap = (C & N)\n",
    "if overlap.any():\n",
    "    print(\"Overlap at:\")\n",
    "    print(np.transpose(overlap.nonzero()))\n",
    "plt.pause(1)\n",
    "drawnext(filter_c=start, color='lime')"
   ]
  },
  {
   "cell_type": "markdown",
   "metadata": {},
   "source": [
    "### Small example"
   ]
  },
  {
   "cell_type": "code",
   "execution_count": 56,
   "metadata": {},
   "outputs": [],
   "source": [
    "def shell_example(n=20, p=.01, start=19, keep_prob=1):\n",
    "    graph = nx.to_directed(nx.watts_strogatz_graph(n,5, p, seed=10))\n",
    "    init_from_nx(graph, keep_prob)\n",
    "    LAYOUT = lambda g: dw.layout.spring_layout(g, seed=42, iterations=100)\n",
    "\n",
    "def demonstrate(start=0):\n",
    "    drawnext(s=start)\n",
    "    plt.pause(5)\n",
    "    explore(start, start)\n",
    "    drawnext()\n",
    "    overlap = (C & N)\n",
    "    if overlap.any():\n",
    "        print(\"Overlap at:\")\n",
    "        print(np.transpose(overlap.nonzero()))\n",
    "    plt.pause(.1)\n",
    "    drawnext(filter_c=start, color='lime')"
   ]
  },
  {
   "cell_type": "code",
   "execution_count": 54,
   "metadata": {},
   "outputs": [],
   "source": [
    "shell_example(40, .6, start=1, keep_prob=.4)\n"
   ]
  },
  {
   "cell_type": "code",
   "execution_count": 58,
   "metadata": {},
   "outputs": [],
   "source": [
    "demonstrate(4)"
   ]
  },
  {
   "cell_type": "code",
   "execution_count": null,
   "metadata": {},
   "outputs": [],
   "source": [
    "reset_N_and_C()\n",
    "drawnext(base_only=1)"
   ]
  },
  {
   "cell_type": "markdown",
   "metadata": {},
   "source": [
    "## Test Complete Solve Time"
   ]
  },
  {
   "cell_type": "code",
   "execution_count": 9,
   "metadata": {},
   "outputs": [],
   "source": [
    "import tqdm.notebook\n",
    "def solve_kleene(show_progress=False):\n",
    "    global G\n",
    "    if show_progress:\n",
    "        for root in tqdm.notebook.trange(G.number_of_nodes()):\n",
    "            explore(root, root)\n",
    "    else:\n",
    "        for root in range(G.number_of_nodes()):\n",
    "            explore(root, root)"
   ]
  },
  {
   "cell_type": "code",
   "execution_count": 40,
   "metadata": {},
   "outputs": [
    {
     "name": "stdout",
     "output_type": "stream",
     "text": [
      " "
     ]
    },
    {
     "name": "stdout",
     "output_type": "stream",
     "text": [
      "         36 function calls (28 primitive calls) in 0.000 seconds\n",
      "\n",
      "   Ordered by: internal time\n",
      "\n",
      "   ncalls  tottime  percall  cumtime  percall filename:lineno(function)\n",
      "     15/7    0.000    0.000    0.000    0.000 3822328612.py:1(explore)\n",
      "        1    0.000    0.000    0.000    0.000 {built-in method builtins.exec}\n",
      "       15    0.000    0.000    0.000    0.000 {method 'nonzero' of 'numpy.ndarray' objects}\n",
      "        1    0.000    0.000    0.000    0.000 3277688792.py:2(solve_kleene)\n",
      "        1    0.000    0.000    0.000    0.000 graph.py:759(number_of_nodes)\n",
      "        1    0.000    0.000    0.000    0.000 <string>:1(<module>)\n",
      "        1    0.000    0.000    0.000    0.000 {built-in method builtins.len}\n",
      "        1    0.000    0.000    0.000    0.000 {method 'disable' of '_lsprof.Profiler' objects}"
     ]
    }
   ],
   "source": [
    "%prun solve_kleene()\n"
   ]
  },
  {
   "cell_type": "code",
   "execution_count": 41,
   "metadata": {},
   "outputs": [],
   "source": [
    "graph = nx.to_directed(nx.watts_strogatz_graph(30, 3, .45))\n",
    "init_from_nx(graph, p=.8)\n",
    "solve_kleene()\n",
    "T1 = C.copy()\n",
    "S1 = S.copy()\n",
    "\n",
    "graph = nx.to_directed(nx.watts_strogatz_graph(30, 3, .4))\n",
    "init_from_nx(graph, p=.9)\n",
    "solve_kleene()\n",
    "T2 = C.copy()\n",
    "S2 = S.copy()"
   ]
  },
  {
   "cell_type": "code",
   "execution_count": 43,
   "metadata": {},
   "outputs": [
    {
     "name": "stdout",
     "output_type": "stream",
     "text": [
      " "
     ]
    },
    {
     "name": "stdout",
     "output_type": "stream",
     "text": [
      "         248 function calls (184 primitive calls) in 0.002 seconds\n",
      "\n",
      "   Ordered by: internal time\n",
      "\n",
      "   ncalls  tottime  percall  cumtime  percall filename:lineno(function)\n",
      "   121/57    0.002    0.000    0.002    0.000 3822328612.py:1(explore)\n",
      "      121    0.000    0.000    0.000    0.000 {method 'nonzero' of 'numpy.ndarray' objects}\n",
      "        1    0.000    0.000    0.002    0.002 {built-in method builtins.exec}\n",
      "        1    0.000    0.000    0.002    0.002 3277688792.py:2(solve_kleene)\n",
      "        1    0.000    0.000    0.000    0.000 graph.py:759(number_of_nodes)\n",
      "        1    0.000    0.000    0.002    0.002 <string>:1(<module>)\n",
      "        1    0.000    0.000    0.000    0.000 {method 'disable' of '_lsprof.Profiler' objects}\n",
      "        1    0.000    0.000    0.000    0.000 {built-in method builtins.len}"
     ]
    }
   ],
   "source": [
    "init_TC_union(T1, T2, overlap=0.1)\n",
    "%prun solve_kleene()\n",
    "\n"
   ]
  },
  {
   "cell_type": "markdown",
   "metadata": {},
   "source": [
    "## Big tests"
   ]
  },
  {
   "cell_type": "code",
   "execution_count": null,
   "metadata": {},
   "outputs": [],
   "source": [
    "\n",
    "V = 1000\n",
    "# graph = nx.random_k_out_graph(V, 3, 3)\n",
    "# graph = nx.binomial_tree(5)\n",
    "graph = nx.soft_random_geometric_graph(V, .1)\n",
    "init_from_nx(graph)\n",
    "drawnext(base_only=True)\n"
   ]
  },
  {
   "cell_type": "code",
   "execution_count": null,
   "metadata": {},
   "outputs": [],
   "source": [
    "drawnext(filter_c=11)\n",
    "shell_example(.1)\n"
   ]
  },
  {
   "cell_type": "markdown",
   "metadata": {},
   "source": [
    "## Open Stored datasets"
   ]
  },
  {
   "cell_type": "code",
   "execution_count": 10,
   "metadata": {},
   "outputs": [],
   "source": [
    "\n",
    "def open_data_set(path: str = REAL_PATH, filter=None):\n",
    "    if isinstance(filter, int):\n",
    "        filter = (filter,)\n",
    "    G = nx.DiGraph()\n",
    "    with open(path, \"r\") as f:\n",
    "        for i, line in enumerate(f.readlines()):\n",
    "            words = line.split(' ')\n",
    "            if len(words) == 1: \n",
    "                print(words[0])\n",
    "                continue\n",
    "            s, l, t, _ = words\n",
    "            if filter is None or int(l) in filter:\n",
    "                G.add_edge(int(s),int(t), label=int(l))\n",
    "    print((G.number_of_nodes(), G.number_of_edges()))\n",
    "    return G\n",
    "\n",
    "def open_data_set_scan_subgraphs(path: str = REAL_PATH, max_label=36):\n",
    "    for subgraph in range(max_label+1):\n",
    "        G = nx.DiGraph()\n",
    "        with open(path, \"r\") as f:\n",
    "            for i, line in enumerate(f.readlines()):\n",
    "                words = line.split(' ')\n",
    "                if len(words) == 1: \n",
    "                    continue\n",
    "                s, l, t, _ = words\n",
    "                if int(l) == subgraph:\n",
    "                    G.add_edge(int(words[0]),int(words[2]))\n",
    "        print(subgraph, (G.number_of_nodes(), G.number_of_edges()))"
   ]
  },
  {
   "cell_type": "code",
   "execution_count": null,
   "metadata": {},
   "outputs": [],
   "source": [
    "# use pickled positions:\n",
    "import pickle\n",
    "\n",
    "# export calculated positions:\n",
    "# with open('real_positions.pickle', 'wb') as f:\n",
    "#     # Pickle the 'data' dictionary using the highest protocol available.\n",
    "#     pickle.dump(pos_real, f, pickle.HIGHEST_PROTOCOL)\n",
    "\n",
    "# import:\n",
    "\n",
    "with open('real_positions.pickle', 'rb') as f:\n",
    "    # Pickle the 'data' dictionary using the highest protocol available.\n",
    "    pos_real = pickle.load(f)\n",
    "plt.clf()\n",
    "nx.draw(G, pos_real, node_size=20)\n"
   ]
  },
  {
   "cell_type": "markdown",
   "metadata": {},
   "source": [
    "## TC on real data"
   ]
  },
  {
   "cell_type": "code",
   "execution_count": 11,
   "metadata": {},
   "outputs": [
    {
     "name": "stdout",
     "output_type": "stream",
     "text": [
      "9726,22158,4\n",
      "\n",
      "(4948, 14900)\n"
     ]
    }
   ],
   "source": [
    "# solve TC on union of label 2 and 3\n",
    "G = open_data_set(SYN_PATH, filter=(1,2,3,4))\n",
    "init_from_nx(G)\n",
    "# drawnext(base_only=True)"
   ]
  },
  {
   "cell_type": "code",
   "execution_count": 12,
   "metadata": {},
   "outputs": [
    {
     "data": {
      "application/vnd.jupyter.widget-view+json": {
       "model_id": "3c4c2cb300a6404597bea074838f20a4",
       "version_major": 2,
       "version_minor": 0
      },
      "text/plain": [
       "  0%|          | 0/4948 [00:00<?, ?it/s]"
      ]
     },
     "metadata": {},
     "output_type": "display_data"
    }
   ],
   "source": [
    "solve_kleene(1)\n",
    "drawnext(filter_c=0, color='green')"
   ]
  },
  {
   "cell_type": "code",
   "execution_count": 26,
   "metadata": {},
   "outputs": [],
   "source": [
    "drawnext(filter_c=0, color='green')\n"
   ]
  },
  {
   "cell_type": "code",
   "execution_count": 24,
   "metadata": {},
   "outputs": [],
   "source": [
    "explore(0,0)"
   ]
  },
  {
   "cell_type": "code",
   "execution_count": 19,
   "metadata": {},
   "outputs": [
    {
     "data": {
      "text/plain": [
       "(array([1], dtype=int64),)"
      ]
     },
     "execution_count": 19,
     "metadata": {},
     "output_type": "execute_result"
    }
   ],
   "source": [
    "(N[1] & C[1]).nonzero()"
   ]
  },
  {
   "cell_type": "code",
   "execution_count": null,
   "metadata": {},
   "outputs": [],
   "source": []
  }
 ],
 "metadata": {
  "interpreter": {
   "hash": "6c8e67d5701bdedea3dc09ffc81133f9b795b77718725fc3bd77d0647de6eb32"
  },
  "kernelspec": {
   "display_name": "Python 3.9.5 64-bit ('base': conda)",
   "language": "python",
   "name": "python3"
  },
  "language_info": {
   "codemirror_mode": {
    "name": "ipython",
    "version": 3
   },
   "file_extension": ".py",
   "mimetype": "text/x-python",
   "name": "python",
   "nbconvert_exporter": "python",
   "pygments_lexer": "ipython3",
   "version": "3.9.5"
  },
  "orig_nbformat": 4
 },
 "nbformat": 4,
 "nbformat_minor": 2
}
