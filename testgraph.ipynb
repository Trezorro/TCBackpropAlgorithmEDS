{
 "cells": [
  {
   "cell_type": "code",
   "execution_count": 3,
   "metadata": {},
   "outputs": [],
   "source": [
    "import numpy as np\n",
    "from pyvis.network import Network\n",
    "import networkx as nx\n",
    "from ipywidgets import interact\n",
    "import os\n",
    "import matplotlib.pyplot as plt\n",
    "%matplotlib qt5"
   ]
  },
  {
   "cell_type": "code",
   "execution_count": 95,
   "metadata": {},
   "outputs": [],
   "source": [
    "\n",
    "def init():\n",
    "    global C, N, S\n",
    "    C = np.zeros((10,10), dtype='int')\n",
    "    # N = np.random.randint(2, size=(10,10), )\n",
    "    N = np.array([\n",
    "        [0, 1, 0, 0, 0, 0, 0, 0, 0, 0],\n",
    "        [0, 0, 1, 0, 0, 0, 0, 0, 0, 0],\n",
    "        [0, 0, 0, 1, 0, 0, 0, 0, 0, 0],\n",
    "        [0, 0, 0, 0, 1, 0, 0, 0, 0, 0],\n",
    "        [0, 0, 0, 0, 0, 1, 0, 0, 0, 0],\n",
    "        [0, 0, 0, 0, 0, 0, 1, 0, 0, 0],\n",
    "        [0, 0, 0, 0, 0, 0, 0, 1, 0, 0],\n",
    "        [0, 0, 0, 0, 0, 0, 0, 0, 1, 0],\n",
    "        [0, 0, 0, 0, 0, 0, 0, 0, 0, 1],\n",
    "        [0, 0, 0, 0, 0, 0, 1, 0, 0, 0]])\n",
    "    S = N.copy()\n",
    "\n",
    "def init2():\n",
    "    global C, N, S\n",
    "    C = np.zeros((15,15), dtype='int')\n",
    "    N = np.random.randint(2, size=(15,15), ) & np.random.randint(2, size=(15,15), )\n",
    "    S = N.copy()\n",
    "\n",
    "def init3():\n",
    "    global C, N, S\n",
    "    C = np.zeros((15,15), dtype='int')\n",
    "    N = np.array([[0, 0, 0, 1, 1, 1, 0, 0, 1, 0, 1, 1, 0, 1, 1],\n",
    "       [0, 0, 1, 0, 0, 0, 0, 0, 1, 1, 0, 0, 1, 0, 0],\n",
    "       [0, 0, 0, 0, 0, 0, 0, 0, 1, 0, 0, 0, 0, 0, 0],\n",
    "       [0, 0, 0, 0, 1, 0, 1, 0, 0, 0, 0, 0, 0, 0, 0],\n",
    "       [0, 1, 1, 1, 0, 0, 1, 1, 1, 0, 0, 1, 0, 0, 1],\n",
    "       [0, 0, 1, 0, 0, 0, 0, 0, 0, 0, 0, 0, 0, 0, 0],\n",
    "       [0, 0, 0, 1, 0, 1, 0, 0, 1, 0, 1, 0, 1, 1, 1],\n",
    "       [1, 0, 1, 0, 1, 0, 0, 0, 0, 1, 1, 0, 0, 0, 1],\n",
    "       [0, 0, 0, 0, 0, 1, 0, 0, 0, 0, 0, 0, 0, 0, 0],\n",
    "       [0, 0, 1, 0, 0, 1, 0, 0, 0, 1, 0, 1, 0, 0, 0],\n",
    "       [0, 0, 0, 0, 0, 1, 0, 0, 0, 1, 0, 0, 0, 0, 0],\n",
    "       [0, 0, 0, 0, 0, 1, 0, 0, 1, 0, 0, 0, 1, 0, 1],\n",
    "       [1, 0, 0, 1, 1, 1, 0, 0, 0, 0, 0, 0, 0, 1, 0],\n",
    "       [0, 0, 1, 1, 0, 0, 0, 0, 1, 1, 0, 0, 1, 0, 1],\n",
    "       [1, 0, 1, 0, 0, 0, 0, 1, 0, 1, 0, 1, 1, 0, 0]])\n",
    "    S = N.copy()"
   ]
  },
  {
   "cell_type": "code",
   "execution_count": 94,
   "metadata": {},
   "outputs": [
    {
     "data": {
      "text/plain": [
       "array([[0, 0, 0, 1, 1, 1, 0, 0, 1, 0, 1, 1, 0, 1, 1],\n",
       "       [0, 0, 1, 0, 0, 0, 0, 0, 1, 1, 0, 0, 1, 0, 0],\n",
       "       [0, 0, 0, 0, 0, 0, 0, 0, 1, 0, 0, 0, 0, 0, 0],\n",
       "       [0, 0, 0, 0, 1, 0, 1, 0, 0, 0, 0, 0, 0, 0, 0],\n",
       "       [0, 1, 1, 1, 0, 0, 1, 1, 1, 0, 0, 1, 0, 0, 1],\n",
       "       [0, 0, 1, 0, 0, 0, 0, 0, 0, 0, 0, 0, 0, 0, 0],\n",
       "       [0, 0, 0, 1, 0, 1, 0, 0, 1, 0, 1, 0, 1, 1, 1],\n",
       "       [1, 0, 1, 0, 1, 0, 0, 0, 0, 1, 1, 0, 0, 0, 1],\n",
       "       [0, 0, 0, 0, 0, 1, 0, 0, 0, 0, 0, 0, 0, 0, 0],\n",
       "       [0, 0, 1, 0, 0, 1, 0, 0, 0, 1, 0, 1, 0, 0, 0],\n",
       "       [0, 0, 0, 0, 0, 1, 0, 0, 0, 1, 0, 0, 0, 0, 0],\n",
       "       [0, 0, 0, 0, 0, 1, 0, 0, 1, 0, 0, 0, 1, 0, 1],\n",
       "       [1, 0, 0, 1, 1, 1, 0, 0, 0, 0, 0, 0, 0, 1, 0],\n",
       "       [0, 0, 1, 1, 0, 0, 0, 0, 1, 1, 0, 0, 1, 0, 1],\n",
       "       [1, 0, 1, 0, 0, 0, 0, 1, 0, 1, 0, 1, 1, 0, 0]], dtype=int32)"
      ]
     },
     "execution_count": 94,
     "metadata": {},
     "output_type": "execute_result"
    }
   ],
   "source": [
    "\n",
    "# ~N[5] | N[9]\n",
    "# ~np.logical_not(N[5])\n",
    "S"
   ]
  },
  {
   "cell_type": "code",
   "execution_count": 110,
   "metadata": {},
   "outputs": [],
   "source": [
    "\n",
    "init3()\n",
    "# fig, ax = plt.plot()\n",
    "plt.clf()\n",
    "G = nx.DiGraph(S)\n",
    "# G.add_edges_from(np.transpose(N.nonzero()), group='blue', color='blue')\n",
    "\n",
    "# explore(1,1)\n",
    "# Gn = nx.DiGraph()\n",
    "# Gn.add_edges_from(np.transpose(N.nonzero()), group='red', color='red')\n",
    "fig = plt.figure(1, figsize=(10,5))\n",
    "count = 0\n",
    "def drawnext(s=None, explore=False):\n",
    "    global G, fig\n",
    "    plt.clf()\n",
    "    Gn = nx.DiGraph(N)\n",
    "    Gc = nx.DiGraph(C)\n",
    "    # nx.draw_circular(G, with_labels=True, font_weight='bold', edge_color='blue', width=10, alpha=.3, )\n",
    "    nx.draw_networkx_edges(G, nx.circular_layout(G), edge_color='blue', width=10, alpha=.1, node_size=400, arrowsize=20)\n",
    "    nx.draw_networkx_nodes(G, nx.circular_layout(G), node_color='w', edgecolors='k', node_size=400)\n",
    "    nx.draw_networkx_labels(G, nx.circular_layout(G))\n",
    "    \n",
    "    nx.draw_networkx_edges(Gc, nx.circular_layout(G), edge_color='k', alpha=.9, width=3)\n",
    "    nx.draw_networkx_edges(Gn, nx.circular_layout(G), edge_color='red', width=3,\n",
    "                           alpha=.6, arrowstyle='-[', min_target_margin=15)\n",
    "    if s is not None:\n",
    "        select_color = 'red' if explore else 'blue'\n",
    "        nx.draw_networkx_nodes(G, nx.circular_layout(G), node_color=select_color, edgecolors='k', node_size=400, nodelist=[s])\n",
    "        \n",
    "    plt.title(str(count))\n",
    "    plt.draw()\n",
    "    plt.pause(1)\n",
    "drawnext()"
   ]
  },
  {
   "cell_type": "code",
   "execution_count": 111,
   "metadata": {},
   "outputs": [],
   "source": [
    "def explore(s, root):\n",
    "    for t in N[s].nonzero()[0]:\n",
    "        if not C[root,t]: # needs to be checked as many times as N has ones.\n",
    "            drawnext(t, explore=True)\n",
    "            C[root, t] = 1 # after exploring, this node known by the root.\n",
    "            # N[s,t] = 0 # pop this front (covered in N update below)\n",
    "            explore(t, root)\n",
    "            C[s] |= C[t] # pull target's cover into current node\n",
    "            C[s,t] = 1 # and add the target itself to the cover\n",
    "            N[s] = ~C[s] & (N[s] | N[t])\n",
    "    overlap = (C[s] & N[s])\n",
    "    if s != root:\n",
    "        assert not overlap.any(), f\"{s=} overlap: {np.transpose(overlap.nonzero())}\"\n",
    "    drawnext(s)\n",
    "    "
   ]
  },
  {
   "cell_type": "code",
   "execution_count": 114,
   "metadata": {},
   "outputs": [],
   "source": [
    "explore(2,2)"
   ]
  },
  {
   "cell_type": "code",
   "execution_count": 142,
   "metadata": {},
   "outputs": [
    {
     "ename": "AssertionError",
     "evalue": "",
     "output_type": "error",
     "traceback": [
      "\u001b[1;31m---------------------------------------------------------------------------\u001b[0m",
      "\u001b[1;31mAssertionError\u001b[0m                            Traceback (most recent call last)",
      "Input \u001b[1;32mIn [142]\u001b[0m, in \u001b[0;36m<module>\u001b[1;34m\u001b[0m\n\u001b[0;32m      2\u001b[0m \u001b[38;5;66;03m# nt.show_buttons(filter_=[])\u001b[39;00m\n\u001b[0;32m      3\u001b[0m nt\u001b[38;5;241m.\u001b[39mset_options(\u001b[38;5;124m\"\"\"\u001b[39m\u001b[38;5;124mvar options = \u001b[39m\u001b[38;5;124m{\u001b[39m\n\u001b[0;32m      4\u001b[0m \u001b[38;5;124m  \u001b[39m\u001b[38;5;124m\"\u001b[39m\u001b[38;5;124medges\u001b[39m\u001b[38;5;124m\"\u001b[39m\u001b[38;5;124m: \u001b[39m\u001b[38;5;124m{\u001b[39m\n\u001b[0;32m      5\u001b[0m \u001b[38;5;124m    \u001b[39m\u001b[38;5;124m\"\u001b[39m\u001b[38;5;124marrows\u001b[39m\u001b[38;5;124m\"\u001b[39m\u001b[38;5;124m: \u001b[39m\u001b[38;5;124m{\u001b[39m\n\u001b[1;32m   (...)\u001b[0m\n\u001b[0;32m     15\u001b[0m \u001b[38;5;124m  }\u001b[39m\n\u001b[0;32m     16\u001b[0m \u001b[38;5;124m}\u001b[39m\u001b[38;5;124m\"\"\"\u001b[39m)\n\u001b[1;32m---> 17\u001b[0m \u001b[43mnt\u001b[49m\u001b[38;5;241;43m.\u001b[39;49m\u001b[43mfrom_nx\u001b[49m\u001b[43m(\u001b[49m\u001b[43mG\u001b[49m\u001b[43m)\u001b[49m\n\u001b[0;32m     18\u001b[0m nt\u001b[38;5;241m.\u001b[39mshow(\u001b[38;5;124m'\u001b[39m\u001b[38;5;124ma.html\u001b[39m\u001b[38;5;124m'\u001b[39m)\n",
      "File \u001b[1;32m~\\Miniconda3\\envs\\graphs\\lib\\site-packages\\pyvis\\network.py:612\u001b[0m, in \u001b[0;36mNetwork.from_nx\u001b[1;34m(self, nx_graph, node_size_transf, edge_weight_transf, default_node_size, default_edge_weight)\u001b[0m\n\u001b[0;32m    610\u001b[0m     nodes[e[\u001b[38;5;241m1\u001b[39m]][\u001b[38;5;124m'\u001b[39m\u001b[38;5;124msize\u001b[39m\u001b[38;5;124m'\u001b[39m] \u001b[38;5;241m=\u001b[39m default_node_size\n\u001b[0;32m    611\u001b[0m nodes[e[\u001b[38;5;241m1\u001b[39m]][\u001b[38;5;124m'\u001b[39m\u001b[38;5;124msize\u001b[39m\u001b[38;5;124m'\u001b[39m] \u001b[38;5;241m=\u001b[39m \u001b[38;5;28mint\u001b[39m(node_size_transf(nodes[e[\u001b[38;5;241m1\u001b[39m]][\u001b[38;5;124m'\u001b[39m\u001b[38;5;124msize\u001b[39m\u001b[38;5;124m'\u001b[39m]))\n\u001b[1;32m--> 612\u001b[0m \u001b[38;5;28mself\u001b[39m\u001b[38;5;241m.\u001b[39madd_node(e[\u001b[38;5;241m0\u001b[39m], \u001b[38;5;241m*\u001b[39m\u001b[38;5;241m*\u001b[39mnodes[e[\u001b[38;5;241m0\u001b[39m]])\n\u001b[0;32m    613\u001b[0m \u001b[38;5;28mself\u001b[39m\u001b[38;5;241m.\u001b[39madd_node(e[\u001b[38;5;241m1\u001b[39m], \u001b[38;5;241m*\u001b[39m\u001b[38;5;241m*\u001b[39mnodes[e[\u001b[38;5;241m1\u001b[39m]])\n\u001b[0;32m    615\u001b[0m \u001b[38;5;28;01mif\u001b[39;00m \u001b[38;5;124m'\u001b[39m\u001b[38;5;124mweight\u001b[39m\u001b[38;5;124m'\u001b[39m \u001b[38;5;129;01mnot\u001b[39;00m \u001b[38;5;129;01min\u001b[39;00m e[\u001b[38;5;241m2\u001b[39m]\u001b[38;5;241m.\u001b[39mkeys():\n",
      "File \u001b[1;32m~\\Miniconda3\\envs\\graphs\\lib\\site-packages\\pyvis\\network.py:207\u001b[0m, in \u001b[0;36mNetwork.add_node\u001b[1;34m(self, n_id, label, shape, **options)\u001b[0m\n\u001b[0;32m     99\u001b[0m \u001b[38;5;28;01mdef\u001b[39;00m \u001b[38;5;21madd_node\u001b[39m(\u001b[38;5;28mself\u001b[39m, n_id, label\u001b[38;5;241m=\u001b[39m\u001b[38;5;28;01mNone\u001b[39;00m, shape\u001b[38;5;241m=\u001b[39m\u001b[38;5;124m\"\u001b[39m\u001b[38;5;124mdot\u001b[39m\u001b[38;5;124m\"\u001b[39m, \u001b[38;5;241m*\u001b[39m\u001b[38;5;241m*\u001b[39moptions):\n\u001b[0;32m    100\u001b[0m     \u001b[38;5;124;03m\"\"\"\u001b[39;00m\n\u001b[0;32m    101\u001b[0m \u001b[38;5;124;03m    This method adds a node to the network, given a mandatory node ID.\u001b[39;00m\n\u001b[0;32m    102\u001b[0m \u001b[38;5;124;03m    Node labels default to node ids if no label is specified during the\u001b[39;00m\n\u001b[1;32m   (...)\u001b[0m\n\u001b[0;32m    205\u001b[0m \u001b[38;5;124;03m    :type y: num (optional)\u001b[39;00m\n\u001b[0;32m    206\u001b[0m \u001b[38;5;124;03m    \"\"\"\u001b[39;00m\n\u001b[1;32m--> 207\u001b[0m     \u001b[38;5;28;01massert\u001b[39;00m \u001b[38;5;28misinstance\u001b[39m(n_id, \u001b[38;5;28mstr\u001b[39m) \u001b[38;5;129;01mor\u001b[39;00m \u001b[38;5;28misinstance\u001b[39m(n_id, \u001b[38;5;28mint\u001b[39m)\n\u001b[0;32m    208\u001b[0m     \u001b[38;5;28;01mif\u001b[39;00m label:\n\u001b[0;32m    209\u001b[0m         node_label \u001b[38;5;241m=\u001b[39m label\n",
      "\u001b[1;31mAssertionError\u001b[0m: "
     ]
    }
   ],
   "source": [
    "nt = Network('1000px', '1000px', notebook=False, directed=True, )\n",
    "# nt.show_buttons(filter_=[])\n",
    "nt.set_options(\"\"\"var options = {\n",
    "  \"edges\": {\n",
    "    \"arrows\": {\n",
    "      \"to\": {\n",
    "        \"enabled\": true,\n",
    "        \"scaleFactor\": 0.35\n",
    "      }\n",
    "    },\n",
    "    \"smooth\": false\n",
    "  },\n",
    "  \"physics\": {\n",
    "    \"minVelocity\": 0.75\n",
    "  }\n",
    "}\"\"\")\n",
    "nt.from_nx(G)\n",
    "nt.show('a.html')"
   ]
  },
  {
   "cell_type": "code",
   "execution_count": null,
   "metadata": {},
   "outputs": [],
   "source": []
  }
 ],
 "metadata": {
  "interpreter": {
   "hash": "6c8e67d5701bdedea3dc09ffc81133f9b795b77718725fc3bd77d0647de6eb32"
  },
  "kernelspec": {
   "display_name": "Python 3.9.5 64-bit ('base': conda)",
   "language": "python",
   "name": "python3"
  },
  "language_info": {
   "codemirror_mode": {
    "name": "ipython",
    "version": 3
   },
   "file_extension": ".py",
   "mimetype": "text/x-python",
   "name": "python",
   "nbconvert_exporter": "python",
   "pygments_lexer": "ipython3",
   "version": "3.9.5"
  },
  "orig_nbformat": 4
 },
 "nbformat": 4,
 "nbformat_minor": 2
}
